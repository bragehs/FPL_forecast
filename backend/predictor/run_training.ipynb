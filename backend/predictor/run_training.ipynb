{
 "cells": [
  {
   "cell_type": "code",
   "execution_count": 1,
   "id": "95e993bb",
   "metadata": {},
   "outputs": [],
   "source": [
    "import os\n",
    "import torch\n",
    "from training import train_model, hyperparameter_tuning\n",
    "from model import AdvancedLSTM, LSTMEncoderOnly"
   ]
  },
  {
   "cell_type": "markdown",
   "id": "2fbf11dd",
   "metadata": {},
   "source": [
    "# REMEMBER TO SAVE BEST HYPERPARAMS FOR AFTER TRAINING USE"
   ]
  },
  {
   "cell_type": "code",
   "execution_count": 2,
   "id": "dcee7668",
   "metadata": {},
   "outputs": [
    {
     "name": "stdout",
     "output_type": "stream",
     "text": [
      "Train sequences: torch.Size([32472, 5, 26]), Targets: torch.Size([32472, 1])\n"
     ]
    }
   ],
   "source": [
    "file_path = os.getcwd() + \"/final_data\" # run from root\n",
    "X_train, y_train = torch.load(file_path + \"/train_sequences.pt\", weights_only=True)\n",
    "X_val, y_val = torch.load(file_path + \"/val_sequences.pt\", weights_only=True) \n",
    "\n",
    "print(f\"Train sequences: {X_train.shape}, Targets: {y_train.shape}\")"
   ]
  },
  {
   "cell_type": "code",
   "execution_count": null,
   "id": "c9b13dbc",
   "metadata": {},
   "outputs": [
    {
     "name": "stdout",
     "output_type": "stream",
     "text": [
      "Train sequences: torch.Size([32472, 5, 26]), Targets: torch.Size([32472, 1])\n",
      "Running random search with 25 trials...\n",
      "\n",
      "Trial 1/25\n",
      "Params: {'learning_rate': 0.005, 'hidden_dim': 64, 'weight_decay': 0.001, 'num_layers': 4, 'dropout': 0.1, 'num_fc_layers': 2, 'batch_size': 64}\n"
     ]
    },
    {
     "ename": "KeyboardInterrupt",
     "evalue": "",
     "output_type": "error",
     "traceback": [
      "\u001b[31m---------------------------------------------------------------------------\u001b[39m",
      "\u001b[31mKeyboardInterrupt\u001b[39m                         Traceback (most recent call last)",
      "\u001b[36mCell\u001b[39m\u001b[36m \u001b[39m\u001b[32mIn[2]\u001b[39m\u001b[32m, line 8\u001b[39m\n\u001b[32m      5\u001b[39m \u001b[38;5;28mprint\u001b[39m(\u001b[33mf\u001b[39m\u001b[33m\"\u001b[39m\u001b[33mTrain sequences: \u001b[39m\u001b[38;5;132;01m{\u001b[39;00mX_train.shape\u001b[38;5;132;01m}\u001b[39;00m\u001b[33m, Targets: \u001b[39m\u001b[38;5;132;01m{\u001b[39;00my_train.shape\u001b[38;5;132;01m}\u001b[39;00m\u001b[33m\"\u001b[39m)\n\u001b[32m      7\u001b[39m \u001b[38;5;66;03m# Hyperparameter tuning\u001b[39;00m\n\u001b[32m----> \u001b[39m\u001b[32m8\u001b[39m best_params = hyperparameter_tuning(X_train, y_train, X_val, y_val, epochs=\u001b[32m30\u001b[39m, n_trials=\u001b[32m25\u001b[39m)\n\u001b[32m     10\u001b[39m \u001b[38;5;66;03m# Full training with best hyperparameters\u001b[39;00m\n\u001b[32m     11\u001b[39m \u001b[38;5;28mprint\u001b[39m(\u001b[33m\"\u001b[39m\u001b[38;5;130;01m\\n\u001b[39;00m\u001b[33mTraining final model with best hyperparameters...\u001b[39m\u001b[33m\"\u001b[39m)\n",
      "\u001b[36mFile \u001b[39m\u001b[32m~/Documents/FPL_forecast/backend/predictor/training.py:158\u001b[39m, in \u001b[36mhyperparameter_tuning\u001b[39m\u001b[34m(X_train, y_train, X_val, y_val, epochs, n_trials)\u001b[39m\n\u001b[32m    156\u001b[39m \u001b[38;5;66;03m# Train model\u001b[39;00m\n\u001b[32m    157\u001b[39m \u001b[38;5;28;01mtry\u001b[39;00m:\n\u001b[32m--> \u001b[39m\u001b[32m158\u001b[39m     val_rmse = train_model(\n\u001b[32m    159\u001b[39m         model,\n\u001b[32m    160\u001b[39m         X_train=X_train, \n\u001b[32m    161\u001b[39m         y_train=y_train,\n\u001b[32m    162\u001b[39m         X_val=X_val, \n\u001b[32m    163\u001b[39m         y_val=y_val, \n\u001b[32m    164\u001b[39m         learning_rate=params[\u001b[33m'\u001b[39m\u001b[33mlearning_rate\u001b[39m\u001b[33m'\u001b[39m],\n\u001b[32m    165\u001b[39m         weight_decay=params[\u001b[33m'\u001b[39m\u001b[33mweight_decay\u001b[39m\u001b[33m'\u001b[39m],\n\u001b[32m    166\u001b[39m         batch_size=params[\u001b[33m'\u001b[39m\u001b[33mbatch_size\u001b[39m\u001b[33m'\u001b[39m],\n\u001b[32m    167\u001b[39m         epochs=epochs,\n\u001b[32m    168\u001b[39m         verbose=\u001b[32m1\u001b[39m,\n\u001b[32m    169\u001b[39m     )\n\u001b[32m    171\u001b[39m     results.append({**params, \u001b[33m'\u001b[39m\u001b[33mrmse\u001b[39m\u001b[33m'\u001b[39m: val_rmse})\n\u001b[32m    173\u001b[39m     \u001b[38;5;28;01mif\u001b[39;00m val_rmse < best_rmse:\n",
      "\u001b[36mFile \u001b[39m\u001b[32m~/Documents/FPL_forecast/backend/predictor/training.py:63\u001b[39m, in \u001b[36mtrain_model\u001b[39m\u001b[34m(model, X_train, y_train, X_val, y_val, epochs, learning_rate, weight_decay, batch_size, verbose)\u001b[39m\n\u001b[32m     61\u001b[39m X_batch, y_batch = X_batch.to(device), y_batch.to(device)\n\u001b[32m     62\u001b[39m optimizer.zero_grad()\n\u001b[32m---> \u001b[39m\u001b[32m63\u001b[39m output = model(X_batch)\n\u001b[32m     64\u001b[39m loss = criterion(output, y_batch)\n\u001b[32m     65\u001b[39m loss.backward()\n",
      "\u001b[36mFile \u001b[39m\u001b[32m/opt/anaconda3/envs/fpl_helper/lib/python3.11/site-packages/torch/nn/modules/module.py:1736\u001b[39m, in \u001b[36mModule._wrapped_call_impl\u001b[39m\u001b[34m(self, *args, **kwargs)\u001b[39m\n\u001b[32m   1734\u001b[39m     \u001b[38;5;28;01mreturn\u001b[39;00m \u001b[38;5;28mself\u001b[39m._compiled_call_impl(*args, **kwargs)  \u001b[38;5;66;03m# type: ignore[misc]\u001b[39;00m\n\u001b[32m   1735\u001b[39m \u001b[38;5;28;01melse\u001b[39;00m:\n\u001b[32m-> \u001b[39m\u001b[32m1736\u001b[39m     \u001b[38;5;28;01mreturn\u001b[39;00m \u001b[38;5;28mself\u001b[39m._call_impl(*args, **kwargs)\n",
      "\u001b[36mFile \u001b[39m\u001b[32m/opt/anaconda3/envs/fpl_helper/lib/python3.11/site-packages/torch/nn/modules/module.py:1747\u001b[39m, in \u001b[36mModule._call_impl\u001b[39m\u001b[34m(self, *args, **kwargs)\u001b[39m\n\u001b[32m   1742\u001b[39m \u001b[38;5;66;03m# If we don't have any hooks, we want to skip the rest of the logic in\u001b[39;00m\n\u001b[32m   1743\u001b[39m \u001b[38;5;66;03m# this function, and just call forward.\u001b[39;00m\n\u001b[32m   1744\u001b[39m \u001b[38;5;28;01mif\u001b[39;00m \u001b[38;5;129;01mnot\u001b[39;00m (\u001b[38;5;28mself\u001b[39m._backward_hooks \u001b[38;5;129;01mor\u001b[39;00m \u001b[38;5;28mself\u001b[39m._backward_pre_hooks \u001b[38;5;129;01mor\u001b[39;00m \u001b[38;5;28mself\u001b[39m._forward_hooks \u001b[38;5;129;01mor\u001b[39;00m \u001b[38;5;28mself\u001b[39m._forward_pre_hooks\n\u001b[32m   1745\u001b[39m         \u001b[38;5;129;01mor\u001b[39;00m _global_backward_pre_hooks \u001b[38;5;129;01mor\u001b[39;00m _global_backward_hooks\n\u001b[32m   1746\u001b[39m         \u001b[38;5;129;01mor\u001b[39;00m _global_forward_hooks \u001b[38;5;129;01mor\u001b[39;00m _global_forward_pre_hooks):\n\u001b[32m-> \u001b[39m\u001b[32m1747\u001b[39m     \u001b[38;5;28;01mreturn\u001b[39;00m forward_call(*args, **kwargs)\n\u001b[32m   1749\u001b[39m result = \u001b[38;5;28;01mNone\u001b[39;00m\n\u001b[32m   1750\u001b[39m called_always_called_hooks = \u001b[38;5;28mset\u001b[39m()\n",
      "\u001b[36mFile \u001b[39m\u001b[32m~/Documents/FPL_forecast/backend/predictor/model.py:42\u001b[39m, in \u001b[36mAdvancedLSTM.forward\u001b[39m\u001b[34m(self, x)\u001b[39m\n\u001b[32m     41\u001b[39m \u001b[38;5;28;01mdef\u001b[39;00m\u001b[38;5;250m \u001b[39m\u001b[34mforward\u001b[39m(\u001b[38;5;28mself\u001b[39m, x):\n\u001b[32m---> \u001b[39m\u001b[32m42\u001b[39m     _, (hidden, _) = \u001b[38;5;28mself\u001b[39m.lstm(x)\n\u001b[32m     43\u001b[39m     hidden_last = hidden[-\u001b[32m1\u001b[39m]\n\u001b[32m     45\u001b[39m     \u001b[38;5;66;03m# Dynamic multi-layer head with batch norm\u001b[39;00m\n",
      "\u001b[36mFile \u001b[39m\u001b[32m/opt/anaconda3/envs/fpl_helper/lib/python3.11/site-packages/torch/nn/modules/module.py:1736\u001b[39m, in \u001b[36mModule._wrapped_call_impl\u001b[39m\u001b[34m(self, *args, **kwargs)\u001b[39m\n\u001b[32m   1734\u001b[39m     \u001b[38;5;28;01mreturn\u001b[39;00m \u001b[38;5;28mself\u001b[39m._compiled_call_impl(*args, **kwargs)  \u001b[38;5;66;03m# type: ignore[misc]\u001b[39;00m\n\u001b[32m   1735\u001b[39m \u001b[38;5;28;01melse\u001b[39;00m:\n\u001b[32m-> \u001b[39m\u001b[32m1736\u001b[39m     \u001b[38;5;28;01mreturn\u001b[39;00m \u001b[38;5;28mself\u001b[39m._call_impl(*args, **kwargs)\n",
      "\u001b[36mFile \u001b[39m\u001b[32m/opt/anaconda3/envs/fpl_helper/lib/python3.11/site-packages/torch/nn/modules/module.py:1747\u001b[39m, in \u001b[36mModule._call_impl\u001b[39m\u001b[34m(self, *args, **kwargs)\u001b[39m\n\u001b[32m   1742\u001b[39m \u001b[38;5;66;03m# If we don't have any hooks, we want to skip the rest of the logic in\u001b[39;00m\n\u001b[32m   1743\u001b[39m \u001b[38;5;66;03m# this function, and just call forward.\u001b[39;00m\n\u001b[32m   1744\u001b[39m \u001b[38;5;28;01mif\u001b[39;00m \u001b[38;5;129;01mnot\u001b[39;00m (\u001b[38;5;28mself\u001b[39m._backward_hooks \u001b[38;5;129;01mor\u001b[39;00m \u001b[38;5;28mself\u001b[39m._backward_pre_hooks \u001b[38;5;129;01mor\u001b[39;00m \u001b[38;5;28mself\u001b[39m._forward_hooks \u001b[38;5;129;01mor\u001b[39;00m \u001b[38;5;28mself\u001b[39m._forward_pre_hooks\n\u001b[32m   1745\u001b[39m         \u001b[38;5;129;01mor\u001b[39;00m _global_backward_pre_hooks \u001b[38;5;129;01mor\u001b[39;00m _global_backward_hooks\n\u001b[32m   1746\u001b[39m         \u001b[38;5;129;01mor\u001b[39;00m _global_forward_hooks \u001b[38;5;129;01mor\u001b[39;00m _global_forward_pre_hooks):\n\u001b[32m-> \u001b[39m\u001b[32m1747\u001b[39m     \u001b[38;5;28;01mreturn\u001b[39;00m forward_call(*args, **kwargs)\n\u001b[32m   1749\u001b[39m result = \u001b[38;5;28;01mNone\u001b[39;00m\n\u001b[32m   1750\u001b[39m called_always_called_hooks = \u001b[38;5;28mset\u001b[39m()\n",
      "\u001b[36mFile \u001b[39m\u001b[32m/opt/anaconda3/envs/fpl_helper/lib/python3.11/site-packages/torch/nn/modules/rnn.py:1123\u001b[39m, in \u001b[36mLSTM.forward\u001b[39m\u001b[34m(self, input, hx)\u001b[39m\n\u001b[32m   1120\u001b[39m         hx = \u001b[38;5;28mself\u001b[39m.permute_hidden(hx, sorted_indices)\n\u001b[32m   1122\u001b[39m \u001b[38;5;28;01mif\u001b[39;00m batch_sizes \u001b[38;5;129;01mis\u001b[39;00m \u001b[38;5;28;01mNone\u001b[39;00m:\n\u001b[32m-> \u001b[39m\u001b[32m1123\u001b[39m     result = _VF.lstm(\n\u001b[32m   1124\u001b[39m         \u001b[38;5;28minput\u001b[39m,\n\u001b[32m   1125\u001b[39m         hx,\n\u001b[32m   1126\u001b[39m         \u001b[38;5;28mself\u001b[39m._flat_weights,\n\u001b[32m   1127\u001b[39m         \u001b[38;5;28mself\u001b[39m.bias,\n\u001b[32m   1128\u001b[39m         \u001b[38;5;28mself\u001b[39m.num_layers,\n\u001b[32m   1129\u001b[39m         \u001b[38;5;28mself\u001b[39m.dropout,\n\u001b[32m   1130\u001b[39m         \u001b[38;5;28mself\u001b[39m.training,\n\u001b[32m   1131\u001b[39m         \u001b[38;5;28mself\u001b[39m.bidirectional,\n\u001b[32m   1132\u001b[39m         \u001b[38;5;28mself\u001b[39m.batch_first,\n\u001b[32m   1133\u001b[39m     )\n\u001b[32m   1134\u001b[39m \u001b[38;5;28;01melse\u001b[39;00m:\n\u001b[32m   1135\u001b[39m     result = _VF.lstm(\n\u001b[32m   1136\u001b[39m         \u001b[38;5;28minput\u001b[39m,\n\u001b[32m   1137\u001b[39m         batch_sizes,\n\u001b[32m   (...)\u001b[39m\u001b[32m   1144\u001b[39m         \u001b[38;5;28mself\u001b[39m.bidirectional,\n\u001b[32m   1145\u001b[39m     )\n",
      "\u001b[31mKeyboardInterrupt\u001b[39m: "
     ]
    }
   ],
   "source": [
    "# Hyperparameter tuning\n",
    "best_params = hyperparameter_tuning(X_train, y_train, X_val, y_val, epochs=30, n_trials=25)\n",
    "\n",
    "# Full training with best hyperparameters\n",
    "print(\"\\nTraining final model with best hyperparameters...\")\n",
    "\n",
    "adv_model = AdvancedLSTM(input_dim=26, hidden_dim=best_params['hidden_dim'], \n",
    "                          output_dim=1, num_layers=best_params['num_layers'], \n",
    "                          dropout=best_params['dropout'], num_fc_layers=best_params['num_fc_layers'])\n",
    "\n",
    "\n",
    "print(\"train max:\", y_train.max().item(), \"train min:\", y_train.min().item())"
   ]
  },
  {
   "cell_type": "code",
   "execution_count": 3,
   "id": "fa5e1b9e",
   "metadata": {},
   "outputs": [],
   "source": [
    "model = AdvancedLSTM(\n",
    "    input_dim=26,\n",
    "    hidden_dim=64,\n",
    "    output_dim=1,\n",
    "    num_layers=2,\n",
    "    dropout=0.4,\n",
    "    num_fc_layers=2,\n",
    ")"
   ]
  },
  {
   "cell_type": "code",
   "execution_count": 5,
   "id": "215d3a45",
   "metadata": {},
   "outputs": [
    {
     "data": {
      "text/plain": [
       "64"
      ]
     },
     "execution_count": 5,
     "metadata": {},
     "output_type": "execute_result"
    }
   ],
   "source": [
    "model.hidden_dim"
   ]
  },
  {
   "cell_type": "code",
   "execution_count": 6,
   "id": "383b26c5",
   "metadata": {},
   "outputs": [
    {
     "name": "stderr",
     "output_type": "stream",
     "text": [
      "Epoch  1/50: 100%|██████████| 1015/1015 [00:15<00:00, 65.34it/s, loss=0.7165, lr=0.000252]\n"
     ]
    },
    {
     "name": "stdout",
     "output_type": "stream",
     "text": [
      "Epoch 1 Training MSE (log): 0.9242\n",
      "Epoch 1 validation RMSE: 2.7272\n",
      "Epoch 1 validation MAE: 1.9687\n",
      "Best model saved at epoch 1 with RMSE: 2.7272\n"
     ]
    },
    {
     "name": "stderr",
     "output_type": "stream",
     "text": [
      "Epoch  2/50: 100%|██████████| 1015/1015 [00:15<00:00, 65.70it/s, loss=0.5670, lr=0.000408]\n"
     ]
    },
    {
     "name": "stdout",
     "output_type": "stream",
     "text": [
      "Epoch 2 Training MSE (log): 0.6381\n",
      "Epoch 2 validation RMSE: 2.7199\n",
      "Epoch 2 validation MAE: 2.0160\n",
      "Best model saved at epoch 2 with RMSE: 2.7199\n"
     ]
    },
    {
     "name": "stderr",
     "output_type": "stream",
     "text": [
      "Epoch  3/50: 100%|██████████| 1015/1015 [00:15<00:00, 66.03it/s, loss=0.6382, lr=0.000658]\n"
     ]
    },
    {
     "name": "stdout",
     "output_type": "stream",
     "text": [
      "Epoch 3 Training MSE (log): 0.5952\n",
      "Epoch 3 validation RMSE: 2.7374\n",
      "Epoch 3 validation MAE: 2.0681\n"
     ]
    },
    {
     "name": "stderr",
     "output_type": "stream",
     "text": [
      "Epoch  4/50: 100%|██████████| 1015/1015 [00:15<00:00, 64.75it/s, loss=0.4272, lr=0.000994]\n"
     ]
    },
    {
     "name": "stdout",
     "output_type": "stream",
     "text": [
      "Epoch 4 Training MSE (log): 0.5545\n",
      "Epoch 4 validation RMSE: 2.7391\n",
      "Epoch 4 validation MAE: 2.1543\n"
     ]
    },
    {
     "name": "stderr",
     "output_type": "stream",
     "text": [
      "Epoch  5/50: 100%|██████████| 1015/1015 [00:15<00:00, 65.97it/s, loss=0.5730, lr=0.0014]\n"
     ]
    },
    {
     "name": "stdout",
     "output_type": "stream",
     "text": [
      "Epoch 5 Training MSE (log): 0.5230\n",
      "Epoch 5 validation RMSE: 2.7441\n",
      "Epoch 5 validation MAE: 2.1575\n"
     ]
    },
    {
     "name": "stderr",
     "output_type": "stream",
     "text": [
      "Epoch  6/50: 100%|██████████| 1015/1015 [00:15<00:00, 64.42it/s, loss=0.3615, lr=0.00186]\n"
     ]
    },
    {
     "name": "stdout",
     "output_type": "stream",
     "text": [
      "Epoch 6 Training MSE (log): 0.5027\n",
      "Epoch 6 validation RMSE: 2.7694\n",
      "Epoch 6 validation MAE: 2.1872\n"
     ]
    },
    {
     "name": "stderr",
     "output_type": "stream",
     "text": [
      "Epoch  7/50: 100%|██████████| 1015/1015 [00:15<00:00, 64.63it/s, loss=0.4849, lr=0.00235]\n"
     ]
    },
    {
     "name": "stdout",
     "output_type": "stream",
     "text": [
      "Epoch 7 Training MSE (log): 0.4951\n",
      "Epoch 7 validation RMSE: 2.7319\n",
      "Epoch 7 validation MAE: 2.1300\n"
     ]
    },
    {
     "name": "stderr",
     "output_type": "stream",
     "text": [
      "Epoch  8/50: 100%|██████████| 1015/1015 [00:16<00:00, 61.21it/s, loss=0.4868, lr=0.00285]\n"
     ]
    },
    {
     "name": "stdout",
     "output_type": "stream",
     "text": [
      "Epoch 8 Training MSE (log): 0.4920\n",
      "Epoch 8 validation RMSE: 2.7409\n",
      "Epoch 8 validation MAE: 2.1727\n"
     ]
    },
    {
     "name": "stderr",
     "output_type": "stream",
     "text": [
      "Epoch  9/50: 100%|██████████| 1015/1015 [00:15<00:00, 64.28it/s, loss=0.6825, lr=0.00334]\n"
     ]
    },
    {
     "name": "stdout",
     "output_type": "stream",
     "text": [
      "Epoch 9 Training MSE (log): 0.4923\n",
      "Epoch 9 validation RMSE: 2.7393\n",
      "Epoch 9 validation MAE: 2.1770\n"
     ]
    },
    {
     "name": "stderr",
     "output_type": "stream",
     "text": [
      "Epoch 10/50: 100%|██████████| 1015/1015 [00:15<00:00, 63.59it/s, loss=0.4297, lr=0.0038]\n"
     ]
    },
    {
     "name": "stdout",
     "output_type": "stream",
     "text": [
      "Epoch 10 Training MSE (log): 0.4901\n",
      "Epoch 10 validation RMSE: 2.7442\n",
      "Epoch 10 validation MAE: 2.1625\n"
     ]
    },
    {
     "name": "stderr",
     "output_type": "stream",
     "text": [
      "Epoch 11/50: 100%|██████████| 1015/1015 [00:16<00:00, 61.82it/s, loss=0.3348, lr=0.00421]\n"
     ]
    },
    {
     "name": "stdout",
     "output_type": "stream",
     "text": [
      "Epoch 11 Training MSE (log): 0.4902\n",
      "Epoch 11 validation RMSE: 2.7399\n",
      "Epoch 11 validation MAE: 2.1639\n"
     ]
    },
    {
     "name": "stderr",
     "output_type": "stream",
     "text": [
      "Epoch 12/50: 100%|██████████| 1015/1015 [00:16<00:00, 60.77it/s, loss=0.3809, lr=0.00454]\n"
     ]
    },
    {
     "name": "stdout",
     "output_type": "stream",
     "text": [
      "Epoch 12 Training MSE (log): 0.4886\n",
      "Epoch 12 validation RMSE: 2.7300\n",
      "Epoch 12 validation MAE: 2.1412\n"
     ]
    },
    {
     "name": "stderr",
     "output_type": "stream",
     "text": [
      "Epoch 13/50: 100%|██████████| 1015/1015 [00:16<00:00, 63.16it/s, loss=0.4356, lr=0.00479]\n"
     ]
    },
    {
     "name": "stdout",
     "output_type": "stream",
     "text": [
      "Epoch 13 Training MSE (log): 0.4845\n",
      "Epoch 13 validation RMSE: 2.7707\n",
      "Epoch 13 validation MAE: 2.2401\n"
     ]
    },
    {
     "name": "stderr",
     "output_type": "stream",
     "text": [
      "Epoch 14/50: 100%|██████████| 1015/1015 [00:15<00:00, 63.65it/s, loss=0.6322, lr=0.00495]\n"
     ]
    },
    {
     "name": "stdout",
     "output_type": "stream",
     "text": [
      "Epoch 14 Training MSE (log): 0.4820\n",
      "Epoch 14 validation RMSE: 2.8543\n",
      "Epoch 14 validation MAE: 2.2906\n"
     ]
    },
    {
     "name": "stderr",
     "output_type": "stream",
     "text": [
      "Epoch 15/50: 100%|██████████| 1015/1015 [00:16<00:00, 63.04it/s, loss=0.3203, lr=0.005] \n"
     ]
    },
    {
     "name": "stdout",
     "output_type": "stream",
     "text": [
      "Epoch 15 Training MSE (log): 0.4797\n",
      "Epoch 15 validation RMSE: 2.7481\n",
      "Epoch 15 validation MAE: 2.1452\n"
     ]
    },
    {
     "name": "stderr",
     "output_type": "stream",
     "text": [
      "Epoch 16/50: 100%|██████████| 1015/1015 [00:15<00:00, 65.77it/s, loss=0.4307, lr=0.00499]\n"
     ]
    },
    {
     "name": "stdout",
     "output_type": "stream",
     "text": [
      "Epoch 16 Training MSE (log): 0.4772\n",
      "Epoch 16 validation RMSE: 2.7446\n",
      "Epoch 16 validation MAE: 2.1424\n"
     ]
    },
    {
     "name": "stderr",
     "output_type": "stream",
     "text": [
      "Epoch 17/50: 100%|██████████| 1015/1015 [00:16<00:00, 63.36it/s, loss=0.6951, lr=0.00496]\n"
     ]
    },
    {
     "name": "stdout",
     "output_type": "stream",
     "text": [
      "Epoch 17 Training MSE (log): 0.4706\n",
      "Epoch 17 validation RMSE: 2.8452\n",
      "Epoch 17 validation MAE: 2.2855\n"
     ]
    },
    {
     "name": "stderr",
     "output_type": "stream",
     "text": [
      "Epoch 18/50: 100%|██████████| 1015/1015 [00:15<00:00, 63.69it/s, loss=0.3570, lr=0.00491]\n"
     ]
    },
    {
     "name": "stdout",
     "output_type": "stream",
     "text": [
      "Epoch 18 Training MSE (log): 0.4652\n",
      "Epoch 18 validation RMSE: 2.8365\n",
      "Epoch 18 validation MAE: 2.2369\n"
     ]
    },
    {
     "name": "stderr",
     "output_type": "stream",
     "text": [
      "Epoch 19/50: 100%|██████████| 1015/1015 [00:16<00:00, 62.52it/s, loss=0.4359, lr=0.00484]\n"
     ]
    },
    {
     "name": "stdout",
     "output_type": "stream",
     "text": [
      "Epoch 19 Training MSE (log): 0.4534\n",
      "Epoch 19 validation RMSE: 2.8488\n",
      "Epoch 19 validation MAE: 2.2022\n"
     ]
    },
    {
     "name": "stderr",
     "output_type": "stream",
     "text": [
      "Epoch 20/50: 100%|██████████| 1015/1015 [00:15<00:00, 64.36it/s, loss=0.5708, lr=0.00475]\n"
     ]
    },
    {
     "name": "stdout",
     "output_type": "stream",
     "text": [
      "Epoch 20 Training MSE (log): 0.4434\n",
      "Epoch 20 validation RMSE: 2.8933\n",
      "Epoch 20 validation MAE: 2.2596\n"
     ]
    },
    {
     "name": "stderr",
     "output_type": "stream",
     "text": [
      "Epoch 21/50: 100%|██████████| 1015/1015 [00:16<00:00, 59.95it/s, loss=0.4143, lr=0.00465]\n"
     ]
    },
    {
     "name": "stdout",
     "output_type": "stream",
     "text": [
      "Epoch 21 Training MSE (log): 0.4274\n",
      "Epoch 21 validation RMSE: 2.8357\n",
      "Epoch 21 validation MAE: 2.1457\n"
     ]
    },
    {
     "name": "stderr",
     "output_type": "stream",
     "text": [
      "Epoch 22/50: 100%|██████████| 1015/1015 [00:16<00:00, 62.32it/s, loss=0.4041, lr=0.00452]\n"
     ]
    },
    {
     "name": "stdout",
     "output_type": "stream",
     "text": [
      "Epoch 22 Training MSE (log): 0.4130\n",
      "Epoch 22 validation RMSE: 2.8513\n",
      "Epoch 22 validation MAE: 2.1208\n"
     ]
    },
    {
     "name": "stderr",
     "output_type": "stream",
     "text": [
      "Epoch 23/50: 100%|██████████| 1015/1015 [00:16<00:00, 60.70it/s, loss=0.3806, lr=0.00438]\n"
     ]
    },
    {
     "name": "stdout",
     "output_type": "stream",
     "text": [
      "Epoch 23 Training MSE (log): 0.3982\n",
      "Epoch 23 validation RMSE: 2.8559\n",
      "Epoch 23 validation MAE: 2.0872\n"
     ]
    },
    {
     "name": "stderr",
     "output_type": "stream",
     "text": [
      "Epoch 24/50: 100%|██████████| 1015/1015 [00:16<00:00, 60.21it/s, loss=0.3016, lr=0.00423]\n"
     ]
    },
    {
     "name": "stdout",
     "output_type": "stream",
     "text": [
      "Epoch 24 Training MSE (log): 0.3853\n",
      "Epoch 24 validation RMSE: 2.8537\n",
      "Epoch 24 validation MAE: 2.0981\n"
     ]
    },
    {
     "name": "stderr",
     "output_type": "stream",
     "text": [
      "Epoch 25/50: 100%|██████████| 1015/1015 [00:16<00:00, 60.54it/s, loss=0.4588, lr=0.00406]\n"
     ]
    },
    {
     "name": "stdout",
     "output_type": "stream",
     "text": [
      "Epoch 25 Training MSE (log): 0.3738\n",
      "Epoch 25 validation RMSE: 3.0047\n",
      "Epoch 25 validation MAE: 2.2432\n"
     ]
    },
    {
     "name": "stderr",
     "output_type": "stream",
     "text": [
      "Epoch 26/50:  74%|███████▎  | 747/1015 [00:12<00:04, 60.85it/s, loss=0.2871, lr=0.00393]\n"
     ]
    },
    {
     "ename": "KeyboardInterrupt",
     "evalue": "",
     "output_type": "error",
     "traceback": [
      "\u001b[31m---------------------------------------------------------------------------\u001b[39m",
      "\u001b[31mKeyboardInterrupt\u001b[39m                         Traceback (most recent call last)",
      "\u001b[36mCell\u001b[39m\u001b[36m \u001b[39m\u001b[32mIn[6]\u001b[39m\u001b[32m, line 1\u001b[39m\n\u001b[32m----> \u001b[39m\u001b[32m1\u001b[39m train_model(\n\u001b[32m      2\u001b[39m     model=model,\n\u001b[32m      3\u001b[39m     X_train=X_train,\n\u001b[32m      4\u001b[39m     y_train=y_train,\n\u001b[32m      5\u001b[39m     X_val=X_val,\n\u001b[32m      6\u001b[39m     y_val=y_val,\n\u001b[32m      7\u001b[39m     epochs=\u001b[32m50\u001b[39m,\n\u001b[32m      8\u001b[39m     batch_size=\u001b[32m32\u001b[39m,\n\u001b[32m      9\u001b[39m     learning_rate=\u001b[32m0.005\u001b[39m,\n\u001b[32m     10\u001b[39m     weight_decay=\u001b[32m0.01\u001b[39m,\n\u001b[32m     11\u001b[39m     verbose=\u001b[32m2\u001b[39m)\n",
      "\u001b[36mFile \u001b[39m\u001b[32m~/Documents/FPL_forecast/backend/predictor/training.py:65\u001b[39m, in \u001b[36mtrain_model\u001b[39m\u001b[34m(model, X_train, y_train, X_val, y_val, epochs, learning_rate, weight_decay, batch_size, verbose)\u001b[39m\n\u001b[32m     63\u001b[39m output = model(X_batch)\n\u001b[32m     64\u001b[39m loss = criterion(output, y_batch)\n\u001b[32m---> \u001b[39m\u001b[32m65\u001b[39m loss.backward()\n\u001b[32m     66\u001b[39m optimizer.step()\n\u001b[32m     67\u001b[39m scheduler.step()\n",
      "\u001b[36mFile \u001b[39m\u001b[32m/opt/anaconda3/envs/fpl_helper/lib/python3.11/site-packages/torch/_tensor.py:581\u001b[39m, in \u001b[36mTensor.backward\u001b[39m\u001b[34m(self, gradient, retain_graph, create_graph, inputs)\u001b[39m\n\u001b[32m    571\u001b[39m \u001b[38;5;28;01mif\u001b[39;00m has_torch_function_unary(\u001b[38;5;28mself\u001b[39m):\n\u001b[32m    572\u001b[39m     \u001b[38;5;28;01mreturn\u001b[39;00m handle_torch_function(\n\u001b[32m    573\u001b[39m         Tensor.backward,\n\u001b[32m    574\u001b[39m         (\u001b[38;5;28mself\u001b[39m,),\n\u001b[32m   (...)\u001b[39m\u001b[32m    579\u001b[39m         inputs=inputs,\n\u001b[32m    580\u001b[39m     )\n\u001b[32m--> \u001b[39m\u001b[32m581\u001b[39m torch.autograd.backward(\n\u001b[32m    582\u001b[39m     \u001b[38;5;28mself\u001b[39m, gradient, retain_graph, create_graph, inputs=inputs\n\u001b[32m    583\u001b[39m )\n",
      "\u001b[36mFile \u001b[39m\u001b[32m/opt/anaconda3/envs/fpl_helper/lib/python3.11/site-packages/torch/autograd/__init__.py:347\u001b[39m, in \u001b[36mbackward\u001b[39m\u001b[34m(tensors, grad_tensors, retain_graph, create_graph, grad_variables, inputs)\u001b[39m\n\u001b[32m    342\u001b[39m     retain_graph = create_graph\n\u001b[32m    344\u001b[39m \u001b[38;5;66;03m# The reason we repeat the same comment below is that\u001b[39;00m\n\u001b[32m    345\u001b[39m \u001b[38;5;66;03m# some Python versions print out the first line of a multi-line function\u001b[39;00m\n\u001b[32m    346\u001b[39m \u001b[38;5;66;03m# calls in the traceback and some print out the last line\u001b[39;00m\n\u001b[32m--> \u001b[39m\u001b[32m347\u001b[39m _engine_run_backward(\n\u001b[32m    348\u001b[39m     tensors,\n\u001b[32m    349\u001b[39m     grad_tensors_,\n\u001b[32m    350\u001b[39m     retain_graph,\n\u001b[32m    351\u001b[39m     create_graph,\n\u001b[32m    352\u001b[39m     inputs,\n\u001b[32m    353\u001b[39m     allow_unreachable=\u001b[38;5;28;01mTrue\u001b[39;00m,\n\u001b[32m    354\u001b[39m     accumulate_grad=\u001b[38;5;28;01mTrue\u001b[39;00m,\n\u001b[32m    355\u001b[39m )\n",
      "\u001b[36mFile \u001b[39m\u001b[32m/opt/anaconda3/envs/fpl_helper/lib/python3.11/site-packages/torch/autograd/graph.py:825\u001b[39m, in \u001b[36m_engine_run_backward\u001b[39m\u001b[34m(t_outputs, *args, **kwargs)\u001b[39m\n\u001b[32m    823\u001b[39m     unregister_hooks = _register_logging_hooks_on_whole_graph(t_outputs)\n\u001b[32m    824\u001b[39m \u001b[38;5;28;01mtry\u001b[39;00m:\n\u001b[32m--> \u001b[39m\u001b[32m825\u001b[39m     \u001b[38;5;28;01mreturn\u001b[39;00m Variable._execution_engine.run_backward(  \u001b[38;5;66;03m# Calls into the C++ engine to run the backward pass\u001b[39;00m\n\u001b[32m    826\u001b[39m         t_outputs, *args, **kwargs\n\u001b[32m    827\u001b[39m     )  \u001b[38;5;66;03m# Calls into the C++ engine to run the backward pass\u001b[39;00m\n\u001b[32m    828\u001b[39m \u001b[38;5;28;01mfinally\u001b[39;00m:\n\u001b[32m    829\u001b[39m     \u001b[38;5;28;01mif\u001b[39;00m attach_logging_hooks:\n",
      "\u001b[31mKeyboardInterrupt\u001b[39m: "
     ]
    }
   ],
   "source": [
    "train_model(\n",
    "    model=model,\n",
    "    X_train=X_train,\n",
    "    y_train=y_train,\n",
    "    X_val=X_val,\n",
    "    y_val=y_val,\n",
    "    epochs=50,\n",
    "    batch_size=32,\n",
    "    learning_rate=0.005,\n",
    "    weight_decay=0.01,\n",
    "    verbose=2)"
   ]
  },
  {
   "cell_type": "code",
   "execution_count": null,
   "id": "50f8c954",
   "metadata": {},
   "outputs": [],
   "source": []
  }
 ],
 "metadata": {
  "kernelspec": {
   "display_name": "fpl_helper",
   "language": "python",
   "name": "python3"
  },
  "language_info": {
   "codemirror_mode": {
    "name": "ipython",
    "version": 3
   },
   "file_extension": ".py",
   "mimetype": "text/x-python",
   "name": "python",
   "nbconvert_exporter": "python",
   "pygments_lexer": "ipython3",
   "version": "3.11.13"
  }
 },
 "nbformat": 4,
 "nbformat_minor": 5
}
