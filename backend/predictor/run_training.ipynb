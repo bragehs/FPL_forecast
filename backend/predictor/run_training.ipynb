{
 "cells": [
  {
   "cell_type": "code",
   "execution_count": 2,
   "id": "95e993bb",
   "metadata": {},
   "outputs": [],
   "source": [
    "import os\n",
    "import torch\n",
    "from training import train_model, hyperparameter_tuning\n",
    "from model import AdvancedLSTM, LSTMEncoderOnly"
   ]
  },
  {
   "cell_type": "code",
   "execution_count": 3,
   "id": "c9b13dbc",
   "metadata": {},
   "outputs": [
    {
     "name": "stdout",
     "output_type": "stream",
     "text": [
      "Train sequences: torch.Size([22472, 5, 26]), Targets: torch.Size([22472, 1])\n",
      "\n",
      "Training final model with best hyperparameters...\n"
     ]
    },
    {
     "name": "stderr",
     "output_type": "stream",
     "text": [
      "Epoch  1/50: 100%|██████████| 703/703 [00:21<00:00, 32.83it/s, loss=0.4214, lr=5.05e-5]\n"
     ]
    },
    {
     "name": "stdout",
     "output_type": "stream",
     "text": [
      "Epoch 1 Training MSE: 0.6613\n",
      "Epoch 1 validation RMSE: 2.8301\n",
      "Epoch 1 validation MAE: 1.8185\n",
      "Best model saved at epoch 1 with RMSE: 2.8301\n"
     ]
    },
    {
     "name": "stderr",
     "output_type": "stream",
     "text": [
      "Epoch  2/50: 100%|██████████| 703/703 [00:22<00:00, 31.79it/s, loss=0.2998, lr=8.15e-5]\n"
     ]
    },
    {
     "name": "stdout",
     "output_type": "stream",
     "text": [
      "Epoch 2 Training MSE: 0.3743\n",
      "Epoch 2 validation RMSE: 2.8088\n",
      "Epoch 2 validation MAE: 1.8015\n",
      "Best model saved at epoch 2 with RMSE: 2.8088\n"
     ]
    },
    {
     "name": "stderr",
     "output_type": "stream",
     "text": [
      "Epoch  3/50: 100%|██████████| 703/703 [00:20<00:00, 34.08it/s, loss=0.1420, lr=0.000132]\n"
     ]
    },
    {
     "name": "stdout",
     "output_type": "stream",
     "text": [
      "Epoch 3 Training MSE: 0.3698\n",
      "Epoch 3 validation RMSE: 2.7450\n",
      "Epoch 3 validation MAE: 1.8593\n",
      "Best model saved at epoch 3 with RMSE: 2.7450\n"
     ]
    },
    {
     "name": "stderr",
     "output_type": "stream",
     "text": [
      "Epoch  4/50: 100%|██████████| 703/703 [00:20<00:00, 33.70it/s, loss=0.1359, lr=0.000199]\n"
     ]
    },
    {
     "name": "stdout",
     "output_type": "stream",
     "text": [
      "Epoch 4 Training MSE: 0.3668\n",
      "Epoch 4 validation RMSE: 2.8069\n",
      "Epoch 4 validation MAE: 1.7781\n"
     ]
    },
    {
     "name": "stderr",
     "output_type": "stream",
     "text": [
      "Epoch  5/50: 100%|██████████| 703/703 [00:21<00:00, 33.15it/s, loss=0.2193, lr=0.00028] \n"
     ]
    },
    {
     "name": "stdout",
     "output_type": "stream",
     "text": [
      "Epoch 5 Training MSE: 0.3657\n",
      "Epoch 5 validation RMSE: 2.8160\n",
      "Epoch 5 validation MAE: 1.7664\n"
     ]
    },
    {
     "name": "stderr",
     "output_type": "stream",
     "text": [
      "Epoch  6/50: 100%|██████████| 703/703 [00:22<00:00, 31.11it/s, loss=0.6246, lr=0.000372]\n"
     ]
    },
    {
     "name": "stdout",
     "output_type": "stream",
     "text": [
      "Epoch 6 Training MSE: 0.3656\n",
      "Epoch 6 validation RMSE: 2.7404\n",
      "Epoch 6 validation MAE: 1.8329\n",
      "Best model saved at epoch 6 with RMSE: 2.7404\n"
     ]
    },
    {
     "name": "stderr",
     "output_type": "stream",
     "text": [
      "Epoch  7/50: 100%|██████████| 703/703 [00:22<00:00, 31.63it/s, loss=0.2203, lr=0.00047] \n"
     ]
    },
    {
     "name": "stdout",
     "output_type": "stream",
     "text": [
      "Epoch 7 Training MSE: 0.3655\n",
      "Epoch 7 validation RMSE: 2.7874\n",
      "Epoch 7 validation MAE: 1.7760\n"
     ]
    },
    {
     "name": "stderr",
     "output_type": "stream",
     "text": [
      "Epoch  8/50: 100%|██████████| 703/703 [00:19<00:00, 36.50it/s, loss=0.4423, lr=0.00057] \n"
     ]
    },
    {
     "name": "stdout",
     "output_type": "stream",
     "text": [
      "Epoch 8 Training MSE: 0.3627\n",
      "Epoch 8 validation RMSE: 2.8124\n",
      "Epoch 8 validation MAE: 1.7539\n"
     ]
    },
    {
     "name": "stderr",
     "output_type": "stream",
     "text": [
      "Epoch  9/50: 100%|██████████| 703/703 [00:19<00:00, 35.31it/s, loss=0.5823, lr=0.000668]\n"
     ]
    },
    {
     "name": "stdout",
     "output_type": "stream",
     "text": [
      "Epoch 9 Training MSE: 0.3621\n",
      "Epoch 9 validation RMSE: 2.7556\n",
      "Epoch 9 validation MAE: 1.8002\n"
     ]
    },
    {
     "name": "stderr",
     "output_type": "stream",
     "text": [
      "Epoch 10/50: 100%|██████████| 703/703 [00:22<00:00, 31.70it/s, loss=0.3224, lr=0.00076] \n"
     ]
    },
    {
     "name": "stdout",
     "output_type": "stream",
     "text": [
      "Epoch 10 Training MSE: 0.3627\n",
      "Epoch 10 validation RMSE: 2.8125\n",
      "Epoch 10 validation MAE: 1.7566\n"
     ]
    },
    {
     "name": "stderr",
     "output_type": "stream",
     "text": [
      "Epoch 11/50: 100%|██████████| 703/703 [00:19<00:00, 35.49it/s, loss=0.4569, lr=0.000841]\n"
     ]
    },
    {
     "name": "stdout",
     "output_type": "stream",
     "text": [
      "Epoch 11 Training MSE: 0.3625\n",
      "Epoch 11 validation RMSE: 2.8461\n",
      "Epoch 11 validation MAE: 1.7422\n"
     ]
    },
    {
     "name": "stderr",
     "output_type": "stream",
     "text": [
      "Epoch 12/50: 100%|██████████| 703/703 [00:20<00:00, 34.58it/s, loss=0.2264, lr=0.000908]\n"
     ]
    },
    {
     "name": "stdout",
     "output_type": "stream",
     "text": [
      "Epoch 12 Training MSE: 0.3607\n",
      "Epoch 12 validation RMSE: 2.7182\n",
      "Epoch 12 validation MAE: 1.8719\n",
      "Best model saved at epoch 12 with RMSE: 2.7182\n"
     ]
    },
    {
     "name": "stderr",
     "output_type": "stream",
     "text": [
      "Epoch 13/50: 100%|██████████| 703/703 [00:23<00:00, 30.10it/s, loss=0.1200, lr=0.000959]\n"
     ]
    },
    {
     "name": "stdout",
     "output_type": "stream",
     "text": [
      "Epoch 13 Training MSE: 0.3602\n"
     ]
    },
    {
     "ename": "KeyboardInterrupt",
     "evalue": "",
     "output_type": "error",
     "traceback": [
      "\u001b[31m---------------------------------------------------------------------------\u001b[39m",
      "\u001b[31mKeyboardInterrupt\u001b[39m                         Traceback (most recent call last)",
      "\u001b[36mCell\u001b[39m\u001b[36m \u001b[39m\u001b[32mIn[3]\u001b[39m\u001b[32m, line 19\u001b[39m\n\u001b[32m     12\u001b[39m model = LSTMEncoderOnly(input_dim=\u001b[32m26\u001b[39m, hidden_dim=\u001b[32m128\u001b[39m, output_dim=\u001b[32m1\u001b[39m, num_layers=\u001b[32m2\u001b[39m, dropout=\u001b[32m0.2\u001b[39m)\n\u001b[32m     13\u001b[39m \u001b[38;5;66;03m#model = TransformerEncoderOnly(input_dim=41, hidden_dim=128, output_dim=1, num_layers=2, dropout=0.2, nhead=4)\u001b[39;00m\n\u001b[32m     14\u001b[39m \u001b[38;5;66;03m#adv_model = AdvancedLSTM(input_dim=26, hidden_dim=best_params['hidden_dim'], \u001b[39;00m\n\u001b[32m     15\u001b[39m  \u001b[38;5;66;03m#                           output_dim=1, num_layers=best_params['num_layers'], \u001b[39;00m\n\u001b[32m     16\u001b[39m   \u001b[38;5;66;03m#                          dropout=best_params['dropout'], num_fc_layers=best_params['num_fc_layers'])\u001b[39;00m\n\u001b[32m---> \u001b[39m\u001b[32m19\u001b[39m train_model(\n\u001b[32m     20\u001b[39m     model,\n\u001b[32m     21\u001b[39m     X_train=X_train, y_train=y_train,\n\u001b[32m     22\u001b[39m     X_val=X_val, y_val=y_val, \n\u001b[32m     23\u001b[39m     learning_rate=\u001b[32m1e-3\u001b[39m,\u001b[38;5;66;03m#best_params['learning_rate'],\u001b[39;00m\n\u001b[32m     24\u001b[39m     weight_decay=\u001b[32m1e-5\u001b[39m,\u001b[38;5;66;03m#best_params['weight_decay'],\u001b[39;00m\n\u001b[32m     25\u001b[39m     batch_size=\u001b[32m32\u001b[39m,\u001b[38;5;66;03m#best_params['batch_size'],\u001b[39;00m\n\u001b[32m     26\u001b[39m     epochs=\u001b[32m50\u001b[39m  \u001b[38;5;66;03m# Full training\u001b[39;00m\n\u001b[32m     27\u001b[39m )\n",
      "\u001b[36mFile \u001b[39m\u001b[32m~/Documents/FPL_forecast/backend/predictor/training.py:118\u001b[39m, in \u001b[36mtrain_model\u001b[39m\u001b[34m(model, X_train, y_train, X_val, y_val, epochs, learning_rate, weight_decay, batch_size)\u001b[39m\n\u001b[32m    116\u001b[39m \u001b[38;5;28;01mfor\u001b[39;00m X_batch, y_batch \u001b[38;5;129;01min\u001b[39;00m val_loader:\n\u001b[32m    117\u001b[39m     X_batch, y_batch = X_batch.to(device), y_batch.to(device)\n\u001b[32m--> \u001b[39m\u001b[32m118\u001b[39m     output = model(X_batch)\n\u001b[32m    119\u001b[39m     transformed_output = torch.expm1(output)\n\u001b[32m    120\u001b[39m     transformed_y = torch.expm1(y_batch)\n",
      "\u001b[36mFile \u001b[39m\u001b[32m/opt/anaconda3/envs/fpl_helper/lib/python3.11/site-packages/torch/nn/modules/module.py:1736\u001b[39m, in \u001b[36mModule._wrapped_call_impl\u001b[39m\u001b[34m(self, *args, **kwargs)\u001b[39m\n\u001b[32m   1734\u001b[39m     \u001b[38;5;28;01mreturn\u001b[39;00m \u001b[38;5;28mself\u001b[39m._compiled_call_impl(*args, **kwargs)  \u001b[38;5;66;03m# type: ignore[misc]\u001b[39;00m\n\u001b[32m   1735\u001b[39m \u001b[38;5;28;01melse\u001b[39;00m:\n\u001b[32m-> \u001b[39m\u001b[32m1736\u001b[39m     \u001b[38;5;28;01mreturn\u001b[39;00m \u001b[38;5;28mself\u001b[39m._call_impl(*args, **kwargs)\n",
      "\u001b[36mFile \u001b[39m\u001b[32m/opt/anaconda3/envs/fpl_helper/lib/python3.11/site-packages/torch/nn/modules/module.py:1747\u001b[39m, in \u001b[36mModule._call_impl\u001b[39m\u001b[34m(self, *args, **kwargs)\u001b[39m\n\u001b[32m   1742\u001b[39m \u001b[38;5;66;03m# If we don't have any hooks, we want to skip the rest of the logic in\u001b[39;00m\n\u001b[32m   1743\u001b[39m \u001b[38;5;66;03m# this function, and just call forward.\u001b[39;00m\n\u001b[32m   1744\u001b[39m \u001b[38;5;28;01mif\u001b[39;00m \u001b[38;5;129;01mnot\u001b[39;00m (\u001b[38;5;28mself\u001b[39m._backward_hooks \u001b[38;5;129;01mor\u001b[39;00m \u001b[38;5;28mself\u001b[39m._backward_pre_hooks \u001b[38;5;129;01mor\u001b[39;00m \u001b[38;5;28mself\u001b[39m._forward_hooks \u001b[38;5;129;01mor\u001b[39;00m \u001b[38;5;28mself\u001b[39m._forward_pre_hooks\n\u001b[32m   1745\u001b[39m         \u001b[38;5;129;01mor\u001b[39;00m _global_backward_pre_hooks \u001b[38;5;129;01mor\u001b[39;00m _global_backward_hooks\n\u001b[32m   1746\u001b[39m         \u001b[38;5;129;01mor\u001b[39;00m _global_forward_hooks \u001b[38;5;129;01mor\u001b[39;00m _global_forward_pre_hooks):\n\u001b[32m-> \u001b[39m\u001b[32m1747\u001b[39m     \u001b[38;5;28;01mreturn\u001b[39;00m forward_call(*args, **kwargs)\n\u001b[32m   1749\u001b[39m result = \u001b[38;5;28;01mNone\u001b[39;00m\n\u001b[32m   1750\u001b[39m called_always_called_hooks = \u001b[38;5;28mset\u001b[39m()\n",
      "\u001b[36mFile \u001b[39m\u001b[32m~/Documents/FPL_forecast/backend/predictor/model.py:12\u001b[39m, in \u001b[36mLSTMEncoderOnly.forward\u001b[39m\u001b[34m(self, x)\u001b[39m\n\u001b[32m     10\u001b[39m \u001b[38;5;28;01mdef\u001b[39;00m\u001b[38;5;250m \u001b[39m\u001b[34mforward\u001b[39m(\u001b[38;5;28mself\u001b[39m, x):\n\u001b[32m     11\u001b[39m     \u001b[38;5;66;03m# x: (batch, seq_len, input_dim)\u001b[39;00m\n\u001b[32m---> \u001b[39m\u001b[32m12\u001b[39m     _, (hidden, _) = \u001b[38;5;28mself\u001b[39m.lstm(x)  \u001b[38;5;66;03m# hidden: (num_layers, batch, hidden_dim)\u001b[39;00m\n\u001b[32m     13\u001b[39m     hidden_last = hidden[-\u001b[32m1\u001b[39m]       \u001b[38;5;66;03m# (batch, hidden_dim)\u001b[39;00m\n\u001b[32m     14\u001b[39m     out = \u001b[38;5;28mself\u001b[39m.fc(hidden_last)     \u001b[38;5;66;03m# (batch, output_dim)\u001b[39;00m\n",
      "\u001b[36mFile \u001b[39m\u001b[32m/opt/anaconda3/envs/fpl_helper/lib/python3.11/site-packages/torch/nn/modules/module.py:1736\u001b[39m, in \u001b[36mModule._wrapped_call_impl\u001b[39m\u001b[34m(self, *args, **kwargs)\u001b[39m\n\u001b[32m   1734\u001b[39m     \u001b[38;5;28;01mreturn\u001b[39;00m \u001b[38;5;28mself\u001b[39m._compiled_call_impl(*args, **kwargs)  \u001b[38;5;66;03m# type: ignore[misc]\u001b[39;00m\n\u001b[32m   1735\u001b[39m \u001b[38;5;28;01melse\u001b[39;00m:\n\u001b[32m-> \u001b[39m\u001b[32m1736\u001b[39m     \u001b[38;5;28;01mreturn\u001b[39;00m \u001b[38;5;28mself\u001b[39m._call_impl(*args, **kwargs)\n",
      "\u001b[36mFile \u001b[39m\u001b[32m/opt/anaconda3/envs/fpl_helper/lib/python3.11/site-packages/torch/nn/modules/module.py:1747\u001b[39m, in \u001b[36mModule._call_impl\u001b[39m\u001b[34m(self, *args, **kwargs)\u001b[39m\n\u001b[32m   1742\u001b[39m \u001b[38;5;66;03m# If we don't have any hooks, we want to skip the rest of the logic in\u001b[39;00m\n\u001b[32m   1743\u001b[39m \u001b[38;5;66;03m# this function, and just call forward.\u001b[39;00m\n\u001b[32m   1744\u001b[39m \u001b[38;5;28;01mif\u001b[39;00m \u001b[38;5;129;01mnot\u001b[39;00m (\u001b[38;5;28mself\u001b[39m._backward_hooks \u001b[38;5;129;01mor\u001b[39;00m \u001b[38;5;28mself\u001b[39m._backward_pre_hooks \u001b[38;5;129;01mor\u001b[39;00m \u001b[38;5;28mself\u001b[39m._forward_hooks \u001b[38;5;129;01mor\u001b[39;00m \u001b[38;5;28mself\u001b[39m._forward_pre_hooks\n\u001b[32m   1745\u001b[39m         \u001b[38;5;129;01mor\u001b[39;00m _global_backward_pre_hooks \u001b[38;5;129;01mor\u001b[39;00m _global_backward_hooks\n\u001b[32m   1746\u001b[39m         \u001b[38;5;129;01mor\u001b[39;00m _global_forward_hooks \u001b[38;5;129;01mor\u001b[39;00m _global_forward_pre_hooks):\n\u001b[32m-> \u001b[39m\u001b[32m1747\u001b[39m     \u001b[38;5;28;01mreturn\u001b[39;00m forward_call(*args, **kwargs)\n\u001b[32m   1749\u001b[39m result = \u001b[38;5;28;01mNone\u001b[39;00m\n\u001b[32m   1750\u001b[39m called_always_called_hooks = \u001b[38;5;28mset\u001b[39m()\n",
      "\u001b[36mFile \u001b[39m\u001b[32m/opt/anaconda3/envs/fpl_helper/lib/python3.11/site-packages/torch/nn/modules/rnn.py:1123\u001b[39m, in \u001b[36mLSTM.forward\u001b[39m\u001b[34m(self, input, hx)\u001b[39m\n\u001b[32m   1120\u001b[39m         hx = \u001b[38;5;28mself\u001b[39m.permute_hidden(hx, sorted_indices)\n\u001b[32m   1122\u001b[39m \u001b[38;5;28;01mif\u001b[39;00m batch_sizes \u001b[38;5;129;01mis\u001b[39;00m \u001b[38;5;28;01mNone\u001b[39;00m:\n\u001b[32m-> \u001b[39m\u001b[32m1123\u001b[39m     result = _VF.lstm(\n\u001b[32m   1124\u001b[39m         \u001b[38;5;28minput\u001b[39m,\n\u001b[32m   1125\u001b[39m         hx,\n\u001b[32m   1126\u001b[39m         \u001b[38;5;28mself\u001b[39m._flat_weights,\n\u001b[32m   1127\u001b[39m         \u001b[38;5;28mself\u001b[39m.bias,\n\u001b[32m   1128\u001b[39m         \u001b[38;5;28mself\u001b[39m.num_layers,\n\u001b[32m   1129\u001b[39m         \u001b[38;5;28mself\u001b[39m.dropout,\n\u001b[32m   1130\u001b[39m         \u001b[38;5;28mself\u001b[39m.training,\n\u001b[32m   1131\u001b[39m         \u001b[38;5;28mself\u001b[39m.bidirectional,\n\u001b[32m   1132\u001b[39m         \u001b[38;5;28mself\u001b[39m.batch_first,\n\u001b[32m   1133\u001b[39m     )\n\u001b[32m   1134\u001b[39m \u001b[38;5;28;01melse\u001b[39;00m:\n\u001b[32m   1135\u001b[39m     result = _VF.lstm(\n\u001b[32m   1136\u001b[39m         \u001b[38;5;28minput\u001b[39m,\n\u001b[32m   1137\u001b[39m         batch_sizes,\n\u001b[32m   (...)\u001b[39m\u001b[32m   1144\u001b[39m         \u001b[38;5;28mself\u001b[39m.bidirectional,\n\u001b[32m   1145\u001b[39m     )\n",
      "\u001b[31mKeyboardInterrupt\u001b[39m: "
     ]
    }
   ],
   "source": [
    "file_path = os.getcwd() + \"/final_data\" # run from root\n",
    "X_train, y_train = torch.load(file_path + \"/train_sequences.pt\", weights_only=True)\n",
    "X_val, y_val = torch.load(file_path + \"/val_sequences.pt\", weights_only=True) \n",
    "\n",
    "print(f\"Train sequences: {X_train.shape}, Targets: {y_train.shape}\")\n",
    "\n",
    "# Hyperparameter tuning\n",
    "#best_params = hyperparameter_tuning(X_train, y_train, X_val, y_val, epochs=30, n_trials=25)\n",
    "\n",
    "# Full training with best hyperparameters\n",
    "print(\"\\nTraining final model with best hyperparameters...\")\n",
    "model = LSTMEncoderOnly(input_dim=26, hidden_dim=128, output_dim=1, num_layers=2, dropout=0.2)\n",
    "#model = TransformerEncoderOnly(input_dim=41, hidden_dim=128, output_dim=1, num_layers=2, dropout=0.2, nhead=4)\n",
    "#adv_model = AdvancedLSTM(input_dim=26, hidden_dim=best_params['hidden_dim'], \n",
    " #                           output_dim=1, num_layers=best_params['num_layers'], \n",
    "  #                          dropout=best_params['dropout'], num_fc_layers=best_params['num_fc_layers'])\n",
    "\n",
    "\n",
    "train_model(\n",
    "    model,\n",
    "    X_train=X_train, y_train=y_train,\n",
    "    X_val=X_val, y_val=y_val, \n",
    "    learning_rate=1e-3,#best_params['learning_rate'],\n",
    "    weight_decay=1e-5,#best_params['weight_decay'],\n",
    "    batch_size=32,#best_params['batch_size'],\n",
    "    epochs=50  # Full training\n",
    ")"
   ]
  },
  {
   "cell_type": "code",
   "execution_count": null,
   "id": "5d6ba27a",
   "metadata": {},
   "outputs": [],
   "source": []
  }
 ],
 "metadata": {
  "kernelspec": {
   "display_name": "fpl_helper",
   "language": "python",
   "name": "python3"
  },
  "language_info": {
   "codemirror_mode": {
    "name": "ipython",
    "version": 3
   },
   "file_extension": ".py",
   "mimetype": "text/x-python",
   "name": "python",
   "nbconvert_exporter": "python",
   "pygments_lexer": "ipython3",
   "version": "3.11.13"
  }
 },
 "nbformat": 4,
 "nbformat_minor": 5
}
