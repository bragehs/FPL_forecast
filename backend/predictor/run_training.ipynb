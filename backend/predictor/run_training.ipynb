{
 "cells": [
  {
   "cell_type": "code",
   "execution_count": 1,
   "id": "95e993bb",
   "metadata": {},
   "outputs": [],
   "source": [
    "import os\n",
    "import torch\n",
    "from training import train_model, hyperparameter_tuning\n",
    "from model import AdvancedLSTM, LSTMEncoderOnly"
   ]
  },
  {
   "cell_type": "code",
   "execution_count": 2,
   "id": "dcee7668",
   "metadata": {},
   "outputs": [
    {
     "name": "stdout",
     "output_type": "stream",
     "text": [
      "Train sequences: torch.Size([32472, 5, 26]), Targets: torch.Size([32472, 1])\n"
     ]
    }
   ],
   "source": [
    "file_path = os.getcwd() + \"/final_data\" # run from root\n",
    "X_train, y_train = torch.load(file_path + \"/train_sequences.pt\", weights_only=True)\n",
    "X_val, y_val = torch.load(file_path + \"/val_sequences.pt\", weights_only=True) \n",
    "\n",
    "print(f\"Train sequences: {X_train.shape}, Targets: {y_train.shape}\")"
   ]
  },
  {
   "cell_type": "code",
   "execution_count": null,
   "id": "c9b13dbc",
   "metadata": {},
   "outputs": [
    {
     "name": "stdout",
     "output_type": "stream",
     "text": [
      "Train sequences: torch.Size([32472, 5, 26]), Targets: torch.Size([32472, 1])\n",
      "Running random search with 25 trials...\n",
      "\n",
      "Trial 1/25\n",
      "Params: {'learning_rate': 0.005, 'hidden_dim': 64, 'weight_decay': 0.001, 'num_layers': 4, 'dropout': 0.1, 'num_fc_layers': 2, 'batch_size': 64}\n"
     ]
    },
    {
     "ename": "KeyboardInterrupt",
     "evalue": "",
     "output_type": "error",
     "traceback": [
      "\u001b[31m---------------------------------------------------------------------------\u001b[39m",
      "\u001b[31mKeyboardInterrupt\u001b[39m                         Traceback (most recent call last)",
      "\u001b[36mCell\u001b[39m\u001b[36m \u001b[39m\u001b[32mIn[2]\u001b[39m\u001b[32m, line 8\u001b[39m\n\u001b[32m      5\u001b[39m \u001b[38;5;28mprint\u001b[39m(\u001b[33mf\u001b[39m\u001b[33m\"\u001b[39m\u001b[33mTrain sequences: \u001b[39m\u001b[38;5;132;01m{\u001b[39;00mX_train.shape\u001b[38;5;132;01m}\u001b[39;00m\u001b[33m, Targets: \u001b[39m\u001b[38;5;132;01m{\u001b[39;00my_train.shape\u001b[38;5;132;01m}\u001b[39;00m\u001b[33m\"\u001b[39m)\n\u001b[32m      7\u001b[39m \u001b[38;5;66;03m# Hyperparameter tuning\u001b[39;00m\n\u001b[32m----> \u001b[39m\u001b[32m8\u001b[39m best_params = hyperparameter_tuning(X_train, y_train, X_val, y_val, epochs=\u001b[32m30\u001b[39m, n_trials=\u001b[32m25\u001b[39m)\n\u001b[32m     10\u001b[39m \u001b[38;5;66;03m# Full training with best hyperparameters\u001b[39;00m\n\u001b[32m     11\u001b[39m \u001b[38;5;28mprint\u001b[39m(\u001b[33m\"\u001b[39m\u001b[38;5;130;01m\\n\u001b[39;00m\u001b[33mTraining final model with best hyperparameters...\u001b[39m\u001b[33m\"\u001b[39m)\n",
      "\u001b[36mFile \u001b[39m\u001b[32m~/Documents/FPL_forecast/backend/predictor/training.py:158\u001b[39m, in \u001b[36mhyperparameter_tuning\u001b[39m\u001b[34m(X_train, y_train, X_val, y_val, epochs, n_trials)\u001b[39m\n\u001b[32m    156\u001b[39m \u001b[38;5;66;03m# Train model\u001b[39;00m\n\u001b[32m    157\u001b[39m \u001b[38;5;28;01mtry\u001b[39;00m:\n\u001b[32m--> \u001b[39m\u001b[32m158\u001b[39m     val_rmse = train_model(\n\u001b[32m    159\u001b[39m         model,\n\u001b[32m    160\u001b[39m         X_train=X_train, \n\u001b[32m    161\u001b[39m         y_train=y_train,\n\u001b[32m    162\u001b[39m         X_val=X_val, \n\u001b[32m    163\u001b[39m         y_val=y_val, \n\u001b[32m    164\u001b[39m         learning_rate=params[\u001b[33m'\u001b[39m\u001b[33mlearning_rate\u001b[39m\u001b[33m'\u001b[39m],\n\u001b[32m    165\u001b[39m         weight_decay=params[\u001b[33m'\u001b[39m\u001b[33mweight_decay\u001b[39m\u001b[33m'\u001b[39m],\n\u001b[32m    166\u001b[39m         batch_size=params[\u001b[33m'\u001b[39m\u001b[33mbatch_size\u001b[39m\u001b[33m'\u001b[39m],\n\u001b[32m    167\u001b[39m         epochs=epochs,\n\u001b[32m    168\u001b[39m         verbose=\u001b[32m1\u001b[39m,\n\u001b[32m    169\u001b[39m     )\n\u001b[32m    171\u001b[39m     results.append({**params, \u001b[33m'\u001b[39m\u001b[33mrmse\u001b[39m\u001b[33m'\u001b[39m: val_rmse})\n\u001b[32m    173\u001b[39m     \u001b[38;5;28;01mif\u001b[39;00m val_rmse < best_rmse:\n",
      "\u001b[36mFile \u001b[39m\u001b[32m~/Documents/FPL_forecast/backend/predictor/training.py:63\u001b[39m, in \u001b[36mtrain_model\u001b[39m\u001b[34m(model, X_train, y_train, X_val, y_val, epochs, learning_rate, weight_decay, batch_size, verbose)\u001b[39m\n\u001b[32m     61\u001b[39m X_batch, y_batch = X_batch.to(device), y_batch.to(device)\n\u001b[32m     62\u001b[39m optimizer.zero_grad()\n\u001b[32m---> \u001b[39m\u001b[32m63\u001b[39m output = model(X_batch)\n\u001b[32m     64\u001b[39m loss = criterion(output, y_batch)\n\u001b[32m     65\u001b[39m loss.backward()\n",
      "\u001b[36mFile \u001b[39m\u001b[32m/opt/anaconda3/envs/fpl_helper/lib/python3.11/site-packages/torch/nn/modules/module.py:1736\u001b[39m, in \u001b[36mModule._wrapped_call_impl\u001b[39m\u001b[34m(self, *args, **kwargs)\u001b[39m\n\u001b[32m   1734\u001b[39m     \u001b[38;5;28;01mreturn\u001b[39;00m \u001b[38;5;28mself\u001b[39m._compiled_call_impl(*args, **kwargs)  \u001b[38;5;66;03m# type: ignore[misc]\u001b[39;00m\n\u001b[32m   1735\u001b[39m \u001b[38;5;28;01melse\u001b[39;00m:\n\u001b[32m-> \u001b[39m\u001b[32m1736\u001b[39m     \u001b[38;5;28;01mreturn\u001b[39;00m \u001b[38;5;28mself\u001b[39m._call_impl(*args, **kwargs)\n",
      "\u001b[36mFile \u001b[39m\u001b[32m/opt/anaconda3/envs/fpl_helper/lib/python3.11/site-packages/torch/nn/modules/module.py:1747\u001b[39m, in \u001b[36mModule._call_impl\u001b[39m\u001b[34m(self, *args, **kwargs)\u001b[39m\n\u001b[32m   1742\u001b[39m \u001b[38;5;66;03m# If we don't have any hooks, we want to skip the rest of the logic in\u001b[39;00m\n\u001b[32m   1743\u001b[39m \u001b[38;5;66;03m# this function, and just call forward.\u001b[39;00m\n\u001b[32m   1744\u001b[39m \u001b[38;5;28;01mif\u001b[39;00m \u001b[38;5;129;01mnot\u001b[39;00m (\u001b[38;5;28mself\u001b[39m._backward_hooks \u001b[38;5;129;01mor\u001b[39;00m \u001b[38;5;28mself\u001b[39m._backward_pre_hooks \u001b[38;5;129;01mor\u001b[39;00m \u001b[38;5;28mself\u001b[39m._forward_hooks \u001b[38;5;129;01mor\u001b[39;00m \u001b[38;5;28mself\u001b[39m._forward_pre_hooks\n\u001b[32m   1745\u001b[39m         \u001b[38;5;129;01mor\u001b[39;00m _global_backward_pre_hooks \u001b[38;5;129;01mor\u001b[39;00m _global_backward_hooks\n\u001b[32m   1746\u001b[39m         \u001b[38;5;129;01mor\u001b[39;00m _global_forward_hooks \u001b[38;5;129;01mor\u001b[39;00m _global_forward_pre_hooks):\n\u001b[32m-> \u001b[39m\u001b[32m1747\u001b[39m     \u001b[38;5;28;01mreturn\u001b[39;00m forward_call(*args, **kwargs)\n\u001b[32m   1749\u001b[39m result = \u001b[38;5;28;01mNone\u001b[39;00m\n\u001b[32m   1750\u001b[39m called_always_called_hooks = \u001b[38;5;28mset\u001b[39m()\n",
      "\u001b[36mFile \u001b[39m\u001b[32m~/Documents/FPL_forecast/backend/predictor/model.py:42\u001b[39m, in \u001b[36mAdvancedLSTM.forward\u001b[39m\u001b[34m(self, x)\u001b[39m\n\u001b[32m     41\u001b[39m \u001b[38;5;28;01mdef\u001b[39;00m\u001b[38;5;250m \u001b[39m\u001b[34mforward\u001b[39m(\u001b[38;5;28mself\u001b[39m, x):\n\u001b[32m---> \u001b[39m\u001b[32m42\u001b[39m     _, (hidden, _) = \u001b[38;5;28mself\u001b[39m.lstm(x)\n\u001b[32m     43\u001b[39m     hidden_last = hidden[-\u001b[32m1\u001b[39m]\n\u001b[32m     45\u001b[39m     \u001b[38;5;66;03m# Dynamic multi-layer head with batch norm\u001b[39;00m\n",
      "\u001b[36mFile \u001b[39m\u001b[32m/opt/anaconda3/envs/fpl_helper/lib/python3.11/site-packages/torch/nn/modules/module.py:1736\u001b[39m, in \u001b[36mModule._wrapped_call_impl\u001b[39m\u001b[34m(self, *args, **kwargs)\u001b[39m\n\u001b[32m   1734\u001b[39m     \u001b[38;5;28;01mreturn\u001b[39;00m \u001b[38;5;28mself\u001b[39m._compiled_call_impl(*args, **kwargs)  \u001b[38;5;66;03m# type: ignore[misc]\u001b[39;00m\n\u001b[32m   1735\u001b[39m \u001b[38;5;28;01melse\u001b[39;00m:\n\u001b[32m-> \u001b[39m\u001b[32m1736\u001b[39m     \u001b[38;5;28;01mreturn\u001b[39;00m \u001b[38;5;28mself\u001b[39m._call_impl(*args, **kwargs)\n",
      "\u001b[36mFile \u001b[39m\u001b[32m/opt/anaconda3/envs/fpl_helper/lib/python3.11/site-packages/torch/nn/modules/module.py:1747\u001b[39m, in \u001b[36mModule._call_impl\u001b[39m\u001b[34m(self, *args, **kwargs)\u001b[39m\n\u001b[32m   1742\u001b[39m \u001b[38;5;66;03m# If we don't have any hooks, we want to skip the rest of the logic in\u001b[39;00m\n\u001b[32m   1743\u001b[39m \u001b[38;5;66;03m# this function, and just call forward.\u001b[39;00m\n\u001b[32m   1744\u001b[39m \u001b[38;5;28;01mif\u001b[39;00m \u001b[38;5;129;01mnot\u001b[39;00m (\u001b[38;5;28mself\u001b[39m._backward_hooks \u001b[38;5;129;01mor\u001b[39;00m \u001b[38;5;28mself\u001b[39m._backward_pre_hooks \u001b[38;5;129;01mor\u001b[39;00m \u001b[38;5;28mself\u001b[39m._forward_hooks \u001b[38;5;129;01mor\u001b[39;00m \u001b[38;5;28mself\u001b[39m._forward_pre_hooks\n\u001b[32m   1745\u001b[39m         \u001b[38;5;129;01mor\u001b[39;00m _global_backward_pre_hooks \u001b[38;5;129;01mor\u001b[39;00m _global_backward_hooks\n\u001b[32m   1746\u001b[39m         \u001b[38;5;129;01mor\u001b[39;00m _global_forward_hooks \u001b[38;5;129;01mor\u001b[39;00m _global_forward_pre_hooks):\n\u001b[32m-> \u001b[39m\u001b[32m1747\u001b[39m     \u001b[38;5;28;01mreturn\u001b[39;00m forward_call(*args, **kwargs)\n\u001b[32m   1749\u001b[39m result = \u001b[38;5;28;01mNone\u001b[39;00m\n\u001b[32m   1750\u001b[39m called_always_called_hooks = \u001b[38;5;28mset\u001b[39m()\n",
      "\u001b[36mFile \u001b[39m\u001b[32m/opt/anaconda3/envs/fpl_helper/lib/python3.11/site-packages/torch/nn/modules/rnn.py:1123\u001b[39m, in \u001b[36mLSTM.forward\u001b[39m\u001b[34m(self, input, hx)\u001b[39m\n\u001b[32m   1120\u001b[39m         hx = \u001b[38;5;28mself\u001b[39m.permute_hidden(hx, sorted_indices)\n\u001b[32m   1122\u001b[39m \u001b[38;5;28;01mif\u001b[39;00m batch_sizes \u001b[38;5;129;01mis\u001b[39;00m \u001b[38;5;28;01mNone\u001b[39;00m:\n\u001b[32m-> \u001b[39m\u001b[32m1123\u001b[39m     result = _VF.lstm(\n\u001b[32m   1124\u001b[39m         \u001b[38;5;28minput\u001b[39m,\n\u001b[32m   1125\u001b[39m         hx,\n\u001b[32m   1126\u001b[39m         \u001b[38;5;28mself\u001b[39m._flat_weights,\n\u001b[32m   1127\u001b[39m         \u001b[38;5;28mself\u001b[39m.bias,\n\u001b[32m   1128\u001b[39m         \u001b[38;5;28mself\u001b[39m.num_layers,\n\u001b[32m   1129\u001b[39m         \u001b[38;5;28mself\u001b[39m.dropout,\n\u001b[32m   1130\u001b[39m         \u001b[38;5;28mself\u001b[39m.training,\n\u001b[32m   1131\u001b[39m         \u001b[38;5;28mself\u001b[39m.bidirectional,\n\u001b[32m   1132\u001b[39m         \u001b[38;5;28mself\u001b[39m.batch_first,\n\u001b[32m   1133\u001b[39m     )\n\u001b[32m   1134\u001b[39m \u001b[38;5;28;01melse\u001b[39;00m:\n\u001b[32m   1135\u001b[39m     result = _VF.lstm(\n\u001b[32m   1136\u001b[39m         \u001b[38;5;28minput\u001b[39m,\n\u001b[32m   1137\u001b[39m         batch_sizes,\n\u001b[32m   (...)\u001b[39m\u001b[32m   1144\u001b[39m         \u001b[38;5;28mself\u001b[39m.bidirectional,\n\u001b[32m   1145\u001b[39m     )\n",
      "\u001b[31mKeyboardInterrupt\u001b[39m: "
     ]
    }
   ],
   "source": [
    "# Hyperparameter tuning\n",
    "best_params = hyperparameter_tuning(X_train, y_train, X_val, y_val, epochs=30, n_trials=25)\n",
    "\n",
    "# Full training with best hyperparameters\n",
    "print(\"\\nTraining final model with best hyperparameters...\")\n",
    "\n",
    "adv_model = AdvancedLSTM(input_dim=26, hidden_dim=best_params['hidden_dim'], \n",
    "                          output_dim=1, num_layers=best_params['num_layers'], \n",
    "                          dropout=best_params['dropout'], num_fc_layers=best_params['num_fc_layers'])\n",
    "\n",
    "\n",
    "print(\"train max:\", y_train.max().item(), \"train min:\", y_train.min().item())"
   ]
  },
  {
   "cell_type": "code",
   "execution_count": 5,
   "id": "fa5e1b9e",
   "metadata": {},
   "outputs": [],
   "source": [
    "model = AdvancedLSTM(\n",
    "    input_dim=26,\n",
    "    hidden_dim=64,\n",
    "    output_dim=1,\n",
    "    num_layers=4,\n",
    "    dropout=0.4,\n",
    "    num_fc_layers=2,\n",
    ")"
   ]
  },
  {
   "cell_type": "code",
   "execution_count": 6,
   "id": "383b26c5",
   "metadata": {},
   "outputs": [
    {
     "name": "stderr",
     "output_type": "stream",
     "text": [
      "Epoch  1/50: 100%|██████████| 1015/1015 [00:27<00:00, 36.95it/s, loss=16.0245, lr=0.000252]\n"
     ]
    },
    {
     "name": "stdout",
     "output_type": "stream",
     "text": [
      "Epoch 1 Training MSE: 21.5191\n",
      "Epoch 1 validation RMSE: 3.1252\n",
      "Epoch 1 validation MAE: 2.0006\n",
      "Best model saved at epoch 1 with RMSE: 3.1252\n"
     ]
    },
    {
     "name": "stderr",
     "output_type": "stream",
     "text": [
      "Epoch  2/50: 100%|██████████| 1015/1015 [00:26<00:00, 38.28it/s, loss=15.6129, lr=0.000408]\n"
     ]
    },
    {
     "name": "stdout",
     "output_type": "stream",
     "text": [
      "Epoch 2 Training MSE: 14.9584\n",
      "Epoch 2 validation RMSE: 2.8779\n",
      "Epoch 2 validation MAE: 1.8342\n",
      "Best model saved at epoch 2 with RMSE: 2.8779\n"
     ]
    },
    {
     "name": "stderr",
     "output_type": "stream",
     "text": [
      "Epoch  3/50: 100%|██████████| 1015/1015 [00:26<00:00, 38.57it/s, loss=14.1467, lr=0.000658]\n"
     ]
    },
    {
     "name": "stdout",
     "output_type": "stream",
     "text": [
      "Epoch 3 Training MSE: 14.6090\n",
      "Epoch 3 validation RMSE: 2.7643\n",
      "Epoch 3 validation MAE: 1.8358\n",
      "Best model saved at epoch 3 with RMSE: 2.7643\n"
     ]
    },
    {
     "name": "stderr",
     "output_type": "stream",
     "text": [
      "Epoch  4/50: 100%|██████████| 1015/1015 [00:26<00:00, 38.64it/s, loss=10.4959, lr=0.000994]\n"
     ]
    },
    {
     "name": "stdout",
     "output_type": "stream",
     "text": [
      "Epoch 4 Training MSE: 14.3812\n",
      "Epoch 4 validation RMSE: 2.7749\n",
      "Epoch 4 validation MAE: 1.9833\n"
     ]
    },
    {
     "name": "stderr",
     "output_type": "stream",
     "text": [
      "Epoch  5/50: 100%|██████████| 1015/1015 [00:26<00:00, 37.99it/s, loss=21.0148, lr=0.0014]\n"
     ]
    },
    {
     "name": "stdout",
     "output_type": "stream",
     "text": [
      "Epoch 5 Training MSE: 14.1158\n",
      "Epoch 5 validation RMSE: 2.8267\n",
      "Epoch 5 validation MAE: 2.2167\n"
     ]
    },
    {
     "name": "stderr",
     "output_type": "stream",
     "text": [
      "Epoch  6/50: 100%|██████████| 1015/1015 [00:26<00:00, 38.87it/s, loss=14.3559, lr=0.00186]\n"
     ]
    },
    {
     "name": "stdout",
     "output_type": "stream",
     "text": [
      "Epoch 6 Training MSE: 13.9421\n",
      "Epoch 6 validation RMSE: 3.1138\n",
      "Epoch 6 validation MAE: 2.6487\n"
     ]
    },
    {
     "name": "stderr",
     "output_type": "stream",
     "text": [
      "Epoch  7/50: 100%|██████████| 1015/1015 [00:25<00:00, 40.00it/s, loss=7.9808, lr=0.00235] \n"
     ]
    },
    {
     "name": "stdout",
     "output_type": "stream",
     "text": [
      "Epoch 7 Training MSE: 13.7232\n",
      "Epoch 7 validation RMSE: 3.1499\n",
      "Epoch 7 validation MAE: 2.7153\n"
     ]
    },
    {
     "name": "stderr",
     "output_type": "stream",
     "text": [
      "Epoch  8/50: 100%|██████████| 1015/1015 [00:25<00:00, 39.52it/s, loss=13.1274, lr=0.00285]\n"
     ]
    },
    {
     "name": "stdout",
     "output_type": "stream",
     "text": [
      "Epoch 8 Training MSE: 13.6566\n",
      "Epoch 8 validation RMSE: 3.1505\n",
      "Epoch 8 validation MAE: 2.6241\n"
     ]
    },
    {
     "name": "stderr",
     "output_type": "stream",
     "text": [
      "Epoch  9/50: 100%|██████████| 1015/1015 [00:26<00:00, 38.24it/s, loss=13.3403, lr=0.00334]\n"
     ]
    },
    {
     "name": "stdout",
     "output_type": "stream",
     "text": [
      "Epoch 9 Training MSE: 13.5050\n",
      "Epoch 9 validation RMSE: 3.1890\n",
      "Epoch 9 validation MAE: 2.8083\n"
     ]
    },
    {
     "name": "stderr",
     "output_type": "stream",
     "text": [
      "Epoch 10/50:  25%|██▍       | 253/1015 [00:06<00:20, 36.86it/s, loss=14.3727, lr=0.00346]\n"
     ]
    },
    {
     "ename": "KeyboardInterrupt",
     "evalue": "",
     "output_type": "error",
     "traceback": [
      "\u001b[31m---------------------------------------------------------------------------\u001b[39m",
      "\u001b[31mKeyboardInterrupt\u001b[39m                         Traceback (most recent call last)",
      "\u001b[36mCell\u001b[39m\u001b[36m \u001b[39m\u001b[32mIn[6]\u001b[39m\u001b[32m, line 1\u001b[39m\n\u001b[32m----> \u001b[39m\u001b[32m1\u001b[39m train_model(\n\u001b[32m      2\u001b[39m     model=model,\n\u001b[32m      3\u001b[39m     X_train=X_train,\n\u001b[32m      4\u001b[39m     y_train=y_train,\n\u001b[32m      5\u001b[39m     X_val=X_val,\n\u001b[32m      6\u001b[39m     y_val=y_val,\n\u001b[32m      7\u001b[39m     epochs=\u001b[32m50\u001b[39m,\n\u001b[32m      8\u001b[39m     batch_size=\u001b[32m32\u001b[39m,\n\u001b[32m      9\u001b[39m     learning_rate=\u001b[32m0.005\u001b[39m,\n\u001b[32m     10\u001b[39m     weight_decay=\u001b[32m0.01\u001b[39m,\n\u001b[32m     11\u001b[39m     verbose=\u001b[32m2\u001b[39m)\n",
      "\u001b[36mFile \u001b[39m\u001b[32m~/Documents/FPL_forecast/backend/predictor/training.py:64\u001b[39m, in \u001b[36mtrain_model\u001b[39m\u001b[34m(model, X_train, y_train, X_val, y_val, epochs, learning_rate, weight_decay, batch_size, verbose, transform)\u001b[39m\n\u001b[32m     62\u001b[39m X_batch, y_batch = X_batch.to(device), y_batch.to(device)\n\u001b[32m     63\u001b[39m optimizer.zero_grad()\n\u001b[32m---> \u001b[39m\u001b[32m64\u001b[39m output = model(X_batch)\n\u001b[32m     65\u001b[39m loss = criterion(output, y_batch)\n\u001b[32m     66\u001b[39m loss.backward()\n",
      "\u001b[36mFile \u001b[39m\u001b[32m/opt/anaconda3/envs/fpl_helper/lib/python3.11/site-packages/torch/nn/modules/module.py:1736\u001b[39m, in \u001b[36mModule._wrapped_call_impl\u001b[39m\u001b[34m(self, *args, **kwargs)\u001b[39m\n\u001b[32m   1734\u001b[39m     \u001b[38;5;28;01mreturn\u001b[39;00m \u001b[38;5;28mself\u001b[39m._compiled_call_impl(*args, **kwargs)  \u001b[38;5;66;03m# type: ignore[misc]\u001b[39;00m\n\u001b[32m   1735\u001b[39m \u001b[38;5;28;01melse\u001b[39;00m:\n\u001b[32m-> \u001b[39m\u001b[32m1736\u001b[39m     \u001b[38;5;28;01mreturn\u001b[39;00m \u001b[38;5;28mself\u001b[39m._call_impl(*args, **kwargs)\n",
      "\u001b[36mFile \u001b[39m\u001b[32m/opt/anaconda3/envs/fpl_helper/lib/python3.11/site-packages/torch/nn/modules/module.py:1747\u001b[39m, in \u001b[36mModule._call_impl\u001b[39m\u001b[34m(self, *args, **kwargs)\u001b[39m\n\u001b[32m   1742\u001b[39m \u001b[38;5;66;03m# If we don't have any hooks, we want to skip the rest of the logic in\u001b[39;00m\n\u001b[32m   1743\u001b[39m \u001b[38;5;66;03m# this function, and just call forward.\u001b[39;00m\n\u001b[32m   1744\u001b[39m \u001b[38;5;28;01mif\u001b[39;00m \u001b[38;5;129;01mnot\u001b[39;00m (\u001b[38;5;28mself\u001b[39m._backward_hooks \u001b[38;5;129;01mor\u001b[39;00m \u001b[38;5;28mself\u001b[39m._backward_pre_hooks \u001b[38;5;129;01mor\u001b[39;00m \u001b[38;5;28mself\u001b[39m._forward_hooks \u001b[38;5;129;01mor\u001b[39;00m \u001b[38;5;28mself\u001b[39m._forward_pre_hooks\n\u001b[32m   1745\u001b[39m         \u001b[38;5;129;01mor\u001b[39;00m _global_backward_pre_hooks \u001b[38;5;129;01mor\u001b[39;00m _global_backward_hooks\n\u001b[32m   1746\u001b[39m         \u001b[38;5;129;01mor\u001b[39;00m _global_forward_hooks \u001b[38;5;129;01mor\u001b[39;00m _global_forward_pre_hooks):\n\u001b[32m-> \u001b[39m\u001b[32m1747\u001b[39m     \u001b[38;5;28;01mreturn\u001b[39;00m forward_call(*args, **kwargs)\n\u001b[32m   1749\u001b[39m result = \u001b[38;5;28;01mNone\u001b[39;00m\n\u001b[32m   1750\u001b[39m called_always_called_hooks = \u001b[38;5;28mset\u001b[39m()\n",
      "\u001b[36mFile \u001b[39m\u001b[32m~/Documents/FPL_forecast/backend/predictor/model.py:44\u001b[39m, in \u001b[36mAdvancedLSTM.forward\u001b[39m\u001b[34m(self, x)\u001b[39m\n\u001b[32m     43\u001b[39m \u001b[38;5;28;01mdef\u001b[39;00m\u001b[38;5;250m \u001b[39m\u001b[34mforward\u001b[39m(\u001b[38;5;28mself\u001b[39m, x):\n\u001b[32m---> \u001b[39m\u001b[32m44\u001b[39m     _, (hidden, _) = \u001b[38;5;28mself\u001b[39m.lstm(x)\n\u001b[32m     45\u001b[39m     hidden_last = hidden[-\u001b[32m1\u001b[39m]\n\u001b[32m     47\u001b[39m     \u001b[38;5;66;03m# Dynamic multi-layer head with batch norm\u001b[39;00m\n",
      "\u001b[36mFile \u001b[39m\u001b[32m/opt/anaconda3/envs/fpl_helper/lib/python3.11/site-packages/torch/nn/modules/module.py:1736\u001b[39m, in \u001b[36mModule._wrapped_call_impl\u001b[39m\u001b[34m(self, *args, **kwargs)\u001b[39m\n\u001b[32m   1734\u001b[39m     \u001b[38;5;28;01mreturn\u001b[39;00m \u001b[38;5;28mself\u001b[39m._compiled_call_impl(*args, **kwargs)  \u001b[38;5;66;03m# type: ignore[misc]\u001b[39;00m\n\u001b[32m   1735\u001b[39m \u001b[38;5;28;01melse\u001b[39;00m:\n\u001b[32m-> \u001b[39m\u001b[32m1736\u001b[39m     \u001b[38;5;28;01mreturn\u001b[39;00m \u001b[38;5;28mself\u001b[39m._call_impl(*args, **kwargs)\n",
      "\u001b[36mFile \u001b[39m\u001b[32m/opt/anaconda3/envs/fpl_helper/lib/python3.11/site-packages/torch/nn/modules/module.py:1747\u001b[39m, in \u001b[36mModule._call_impl\u001b[39m\u001b[34m(self, *args, **kwargs)\u001b[39m\n\u001b[32m   1742\u001b[39m \u001b[38;5;66;03m# If we don't have any hooks, we want to skip the rest of the logic in\u001b[39;00m\n\u001b[32m   1743\u001b[39m \u001b[38;5;66;03m# this function, and just call forward.\u001b[39;00m\n\u001b[32m   1744\u001b[39m \u001b[38;5;28;01mif\u001b[39;00m \u001b[38;5;129;01mnot\u001b[39;00m (\u001b[38;5;28mself\u001b[39m._backward_hooks \u001b[38;5;129;01mor\u001b[39;00m \u001b[38;5;28mself\u001b[39m._backward_pre_hooks \u001b[38;5;129;01mor\u001b[39;00m \u001b[38;5;28mself\u001b[39m._forward_hooks \u001b[38;5;129;01mor\u001b[39;00m \u001b[38;5;28mself\u001b[39m._forward_pre_hooks\n\u001b[32m   1745\u001b[39m         \u001b[38;5;129;01mor\u001b[39;00m _global_backward_pre_hooks \u001b[38;5;129;01mor\u001b[39;00m _global_backward_hooks\n\u001b[32m   1746\u001b[39m         \u001b[38;5;129;01mor\u001b[39;00m _global_forward_hooks \u001b[38;5;129;01mor\u001b[39;00m _global_forward_pre_hooks):\n\u001b[32m-> \u001b[39m\u001b[32m1747\u001b[39m     \u001b[38;5;28;01mreturn\u001b[39;00m forward_call(*args, **kwargs)\n\u001b[32m   1749\u001b[39m result = \u001b[38;5;28;01mNone\u001b[39;00m\n\u001b[32m   1750\u001b[39m called_always_called_hooks = \u001b[38;5;28mset\u001b[39m()\n",
      "\u001b[36mFile \u001b[39m\u001b[32m/opt/anaconda3/envs/fpl_helper/lib/python3.11/site-packages/torch/nn/modules/rnn.py:1123\u001b[39m, in \u001b[36mLSTM.forward\u001b[39m\u001b[34m(self, input, hx)\u001b[39m\n\u001b[32m   1120\u001b[39m         hx = \u001b[38;5;28mself\u001b[39m.permute_hidden(hx, sorted_indices)\n\u001b[32m   1122\u001b[39m \u001b[38;5;28;01mif\u001b[39;00m batch_sizes \u001b[38;5;129;01mis\u001b[39;00m \u001b[38;5;28;01mNone\u001b[39;00m:\n\u001b[32m-> \u001b[39m\u001b[32m1123\u001b[39m     result = _VF.lstm(\n\u001b[32m   1124\u001b[39m         \u001b[38;5;28minput\u001b[39m,\n\u001b[32m   1125\u001b[39m         hx,\n\u001b[32m   1126\u001b[39m         \u001b[38;5;28mself\u001b[39m._flat_weights,\n\u001b[32m   1127\u001b[39m         \u001b[38;5;28mself\u001b[39m.bias,\n\u001b[32m   1128\u001b[39m         \u001b[38;5;28mself\u001b[39m.num_layers,\n\u001b[32m   1129\u001b[39m         \u001b[38;5;28mself\u001b[39m.dropout,\n\u001b[32m   1130\u001b[39m         \u001b[38;5;28mself\u001b[39m.training,\n\u001b[32m   1131\u001b[39m         \u001b[38;5;28mself\u001b[39m.bidirectional,\n\u001b[32m   1132\u001b[39m         \u001b[38;5;28mself\u001b[39m.batch_first,\n\u001b[32m   1133\u001b[39m     )\n\u001b[32m   1134\u001b[39m \u001b[38;5;28;01melse\u001b[39;00m:\n\u001b[32m   1135\u001b[39m     result = _VF.lstm(\n\u001b[32m   1136\u001b[39m         \u001b[38;5;28minput\u001b[39m,\n\u001b[32m   1137\u001b[39m         batch_sizes,\n\u001b[32m   (...)\u001b[39m\u001b[32m   1144\u001b[39m         \u001b[38;5;28mself\u001b[39m.bidirectional,\n\u001b[32m   1145\u001b[39m     )\n",
      "\u001b[31mKeyboardInterrupt\u001b[39m: "
     ]
    }
   ],
   "source": [
    "train_model(\n",
    "    model=model,\n",
    "    X_train=X_train,\n",
    "    y_train=y_train,\n",
    "    X_val=X_val,\n",
    "    y_val=y_val,\n",
    "    epochs=503,\n",
    "    batch_size=32,\n",
    "    learning_rate=0.005,\n",
    "    weight_decay=0.01,\n",
    "    verbose=2)"
   ]
  },
  {
   "cell_type": "code",
   "execution_count": null,
   "id": "50f8c954",
   "metadata": {},
   "outputs": [],
   "source": []
  }
 ],
 "metadata": {
  "kernelspec": {
   "display_name": "fpl_helper",
   "language": "python",
   "name": "python3"
  },
  "language_info": {
   "codemirror_mode": {
    "name": "ipython",
    "version": 3
   },
   "file_extension": ".py",
   "mimetype": "text/x-python",
   "name": "python",
   "nbconvert_exporter": "python",
   "pygments_lexer": "ipython3",
   "version": "3.11.13"
  }
 },
 "nbformat": 4,
 "nbformat_minor": 5
}
