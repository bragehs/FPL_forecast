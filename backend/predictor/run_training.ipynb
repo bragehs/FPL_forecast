{
 "cells": [
  {
   "cell_type": "code",
   "execution_count": 1,
   "id": "95e993bb",
   "metadata": {},
   "outputs": [],
   "source": [
    "import os\n",
    "import torch\n",
    "from training import train_model, hyperparameter_tuning\n",
    "from model import AdvancedLSTM, LSTMEncoderOnly"
   ]
  },
  {
   "cell_type": "markdown",
   "id": "2fbf11dd",
   "metadata": {},
   "source": [
    "# REMEMBER TO SAVE BEST HYPERPARAMS FOR AFTER TRAINING USE"
   ]
  },
  {
   "cell_type": "code",
   "execution_count": 2,
   "id": "c9b13dbc",
   "metadata": {},
   "outputs": [
    {
     "name": "stdout",
     "output_type": "stream",
     "text": [
      "Train sequences: torch.Size([32472, 5, 26]), Targets: torch.Size([32472, 1])\n",
      "\n",
      "Training final model with best hyperparameters...\n",
      "train max: 26.0 train min: 0.0\n"
     ]
    }
   ],
   "source": [
    "file_path = os.getcwd() + \"/final_data\" # run from root\n",
    "X_train, y_train = torch.load(file_path + \"/train_sequences.pt\", weights_only=True)\n",
    "X_val, y_val = torch.load(file_path + \"/val_sequences.pt\", weights_only=True) \n",
    "\n",
    "print(f\"Train sequences: {X_train.shape}, Targets: {y_train.shape}\")\n",
    "\n",
    "# Hyperparameter tuning\n",
    "#best_params = hyperparameter_tuning(X_train, y_train, X_val, y_val, epochs=30, n_trials=25)\n",
    "\n",
    "# Full training with best hyperparameters\n",
    "print(\"\\nTraining final model with best hyperparameters...\")\n",
    "model = LSTMEncoderOnly(input_dim=26, hidden_dim=128, output_dim=1, num_layers=2, dropout=0.2)\n",
    "#model = TransformerEncoderOnly(input_dim=41, hidden_dim=128, output_dim=1, num_layers=2, dropout=0.2, nhead=4)\n",
    "#adv_model = AdvancedLSTM(input_dim=26, hidden_dim=best_params['hidden_dim'], \n",
    " #                           output_dim=1, num_layers=best_params['num_layers'], \n",
    "  #                          dropout=best_params['dropout'], num_fc_layers=best_params['num_fc_layers'])\n",
    "\n",
    "\n",
    "print(\"train max:\", y_train.max().item(), \"train min:\", y_train.min().item())"
   ]
  },
  {
   "cell_type": "code",
   "execution_count": 3,
   "id": "383b26c5",
   "metadata": {},
   "outputs": [
    {
     "name": "stderr",
     "output_type": "stream",
     "text": [
      "Epoch  1/5: 100%|██████████| 508/508 [00:19<00:00, 25.61it/s, loss=0.2934, lr=0.000761]\n"
     ]
    },
    {
     "name": "stdout",
     "output_type": "stream",
     "text": [
      "Epoch 1 Training MSE (log): 0.9490\n",
      "Epoch 1 validation RMSE: 2.9377\n",
      "Epoch 1 validation MAE: 2.4621\n",
      "Best model saved at epoch 1 with RMSE: 2.9377\n"
     ]
    },
    {
     "name": "stderr",
     "output_type": "stream",
     "text": [
      "Epoch  2/5: 100%|██████████| 508/508 [00:20<00:00, 24.76it/s, loss=0.3984, lr=0.00095] \n"
     ]
    },
    {
     "name": "stdout",
     "output_type": "stream",
     "text": [
      "Epoch 2 Training MSE (log): 0.4937\n",
      "Epoch 2 validation RMSE: 2.7676\n",
      "Epoch 2 validation MAE: 2.0615\n",
      "Best model saved at epoch 2 with RMSE: 2.7676\n"
     ]
    },
    {
     "name": "stderr",
     "output_type": "stream",
     "text": [
      "Epoch  3/5:  29%|██▉       | 149/508 [00:05<00:13, 26.51it/s, loss=0.4433, lr=0.000878]\n"
     ]
    },
    {
     "ename": "KeyboardInterrupt",
     "evalue": "",
     "output_type": "error",
     "traceback": [
      "\u001b[31m---------------------------------------------------------------------------\u001b[39m",
      "\u001b[31mKeyboardInterrupt\u001b[39m                         Traceback (most recent call last)",
      "\u001b[36mCell\u001b[39m\u001b[36m \u001b[39m\u001b[32mIn[3]\u001b[39m\u001b[32m, line 1\u001b[39m\n\u001b[32m----> \u001b[39m\u001b[32m1\u001b[39m train_model(\n\u001b[32m      2\u001b[39m     model=model,\n\u001b[32m      3\u001b[39m     X_train=X_train,\n\u001b[32m      4\u001b[39m     y_train=y_train,\n\u001b[32m      5\u001b[39m     X_val=X_val,\n\u001b[32m      6\u001b[39m     y_val=y_val,\n\u001b[32m      7\u001b[39m     epochs=\u001b[32m5\u001b[39m,\n\u001b[32m      8\u001b[39m     batch_size=\u001b[32m64\u001b[39m,\n\u001b[32m      9\u001b[39m     learning_rate=\u001b[32m0.001\u001b[39m,\n\u001b[32m     10\u001b[39m     weight_decay=\u001b[32m1e-5\u001b[39m)\n",
      "\u001b[36mFile \u001b[39m\u001b[32m~/Documents/FPL_forecast/backend/predictor/training.py:61\u001b[39m, in \u001b[36mtrain_model\u001b[39m\u001b[34m(model, X_train, y_train, X_val, y_val, epochs, learning_rate, weight_decay, batch_size)\u001b[39m\n\u001b[32m     59\u001b[39m output = model(X_batch)\n\u001b[32m     60\u001b[39m loss = criterion(output, y_batch)\n\u001b[32m---> \u001b[39m\u001b[32m61\u001b[39m loss.backward()\n\u001b[32m     62\u001b[39m optimizer.step()\n\u001b[32m     63\u001b[39m scheduler.step()\n",
      "\u001b[36mFile \u001b[39m\u001b[32m/opt/anaconda3/envs/fpl_helper/lib/python3.11/site-packages/torch/_tensor.py:581\u001b[39m, in \u001b[36mTensor.backward\u001b[39m\u001b[34m(self, gradient, retain_graph, create_graph, inputs)\u001b[39m\n\u001b[32m    571\u001b[39m \u001b[38;5;28;01mif\u001b[39;00m has_torch_function_unary(\u001b[38;5;28mself\u001b[39m):\n\u001b[32m    572\u001b[39m     \u001b[38;5;28;01mreturn\u001b[39;00m handle_torch_function(\n\u001b[32m    573\u001b[39m         Tensor.backward,\n\u001b[32m    574\u001b[39m         (\u001b[38;5;28mself\u001b[39m,),\n\u001b[32m   (...)\u001b[39m\u001b[32m    579\u001b[39m         inputs=inputs,\n\u001b[32m    580\u001b[39m     )\n\u001b[32m--> \u001b[39m\u001b[32m581\u001b[39m torch.autograd.backward(\n\u001b[32m    582\u001b[39m     \u001b[38;5;28mself\u001b[39m, gradient, retain_graph, create_graph, inputs=inputs\n\u001b[32m    583\u001b[39m )\n",
      "\u001b[36mFile \u001b[39m\u001b[32m/opt/anaconda3/envs/fpl_helper/lib/python3.11/site-packages/torch/autograd/__init__.py:347\u001b[39m, in \u001b[36mbackward\u001b[39m\u001b[34m(tensors, grad_tensors, retain_graph, create_graph, grad_variables, inputs)\u001b[39m\n\u001b[32m    342\u001b[39m     retain_graph = create_graph\n\u001b[32m    344\u001b[39m \u001b[38;5;66;03m# The reason we repeat the same comment below is that\u001b[39;00m\n\u001b[32m    345\u001b[39m \u001b[38;5;66;03m# some Python versions print out the first line of a multi-line function\u001b[39;00m\n\u001b[32m    346\u001b[39m \u001b[38;5;66;03m# calls in the traceback and some print out the last line\u001b[39;00m\n\u001b[32m--> \u001b[39m\u001b[32m347\u001b[39m _engine_run_backward(\n\u001b[32m    348\u001b[39m     tensors,\n\u001b[32m    349\u001b[39m     grad_tensors_,\n\u001b[32m    350\u001b[39m     retain_graph,\n\u001b[32m    351\u001b[39m     create_graph,\n\u001b[32m    352\u001b[39m     inputs,\n\u001b[32m    353\u001b[39m     allow_unreachable=\u001b[38;5;28;01mTrue\u001b[39;00m,\n\u001b[32m    354\u001b[39m     accumulate_grad=\u001b[38;5;28;01mTrue\u001b[39;00m,\n\u001b[32m    355\u001b[39m )\n",
      "\u001b[36mFile \u001b[39m\u001b[32m/opt/anaconda3/envs/fpl_helper/lib/python3.11/site-packages/torch/autograd/graph.py:825\u001b[39m, in \u001b[36m_engine_run_backward\u001b[39m\u001b[34m(t_outputs, *args, **kwargs)\u001b[39m\n\u001b[32m    823\u001b[39m     unregister_hooks = _register_logging_hooks_on_whole_graph(t_outputs)\n\u001b[32m    824\u001b[39m \u001b[38;5;28;01mtry\u001b[39;00m:\n\u001b[32m--> \u001b[39m\u001b[32m825\u001b[39m     \u001b[38;5;28;01mreturn\u001b[39;00m Variable._execution_engine.run_backward(  \u001b[38;5;66;03m# Calls into the C++ engine to run the backward pass\u001b[39;00m\n\u001b[32m    826\u001b[39m         t_outputs, *args, **kwargs\n\u001b[32m    827\u001b[39m     )  \u001b[38;5;66;03m# Calls into the C++ engine to run the backward pass\u001b[39;00m\n\u001b[32m    828\u001b[39m \u001b[38;5;28;01mfinally\u001b[39;00m:\n\u001b[32m    829\u001b[39m     \u001b[38;5;28;01mif\u001b[39;00m attach_logging_hooks:\n",
      "\u001b[31mKeyboardInterrupt\u001b[39m: "
     ]
    }
   ],
   "source": [
    "train_model(\n",
    "    model=model,\n",
    "    X_train=X_train,\n",
    "    y_train=y_train,\n",
    "    X_val=X_val,\n",
    "    y_val=y_val,\n",
    "    epochs=5,\n",
    "    batch_size=64,\n",
    "    learning_rate=0.001,\n",
    "    weight_decay=1e-5)"
   ]
  },
  {
   "cell_type": "code",
   "execution_count": null,
   "id": "50f8c954",
   "metadata": {},
   "outputs": [],
   "source": []
  }
 ],
 "metadata": {
  "kernelspec": {
   "display_name": "fpl_helper",
   "language": "python",
   "name": "python3"
  },
  "language_info": {
   "codemirror_mode": {
    "name": "ipython",
    "version": 3
   },
   "file_extension": ".py",
   "mimetype": "text/x-python",
   "name": "python",
   "nbconvert_exporter": "python",
   "pygments_lexer": "ipython3",
   "version": "3.11.13"
  }
 },
 "nbformat": 4,
 "nbformat_minor": 5
}
