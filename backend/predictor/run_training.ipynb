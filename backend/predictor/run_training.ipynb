{
 "cells": [
  {
   "cell_type": "code",
   "execution_count": 1,
   "id": "95e993bb",
   "metadata": {},
   "outputs": [],
   "source": [
    "import os\n",
    "import torch\n",
    "from training import train_model, hyperparameter_tuning\n",
    "from model import LSTMEncoderOnly, TransformerEncoderOnly, AdvancedLSTM"
   ]
  },
  {
   "cell_type": "code",
   "execution_count": 2,
   "id": "c9b13dbc",
   "metadata": {},
   "outputs": [
    {
     "name": "stdout",
     "output_type": "stream",
     "text": [
      "Train sequences: torch.Size([22472, 5, 26]), Targets: torch.Size([22472, 1])\n",
      "Running random search with 15 trials...\n",
      "\n",
      "Trial 1/15\n",
      "Params: {'learning_rate': 0.0005, 'hidden_dim': 96, 'weight_decay': 0.0001, 'num_layers': 1, 'dropout': 0.4, 'num_fc_layers': 2, 'batch_size': 32}\n"
     ]
    },
    {
     "name": "stderr",
     "output_type": "stream",
     "text": [
      "/opt/anaconda3/envs/fpl_helper/lib/python3.11/site-packages/torch/nn/modules/rnn.py:123: UserWarning: dropout option adds dropout after all but last recurrent layer, so non-zero dropout expects num_layers greater than 1, but got dropout=0.4 and num_layers=1\n",
      "  warnings.warn(\n",
      "Epoch  1/10:  78%|███████▊  | 549/703 [00:03<00:01, 150.38it/s, loss=23.5535, lr=9.59e-5]\n"
     ]
    },
    {
     "ename": "KeyboardInterrupt",
     "evalue": "",
     "output_type": "error",
     "traceback": [
      "\u001b[31m---------------------------------------------------------------------------\u001b[39m",
      "\u001b[31mKeyboardInterrupt\u001b[39m                         Traceback (most recent call last)",
      "\u001b[36mCell\u001b[39m\u001b[36m \u001b[39m\u001b[32mIn[2]\u001b[39m\u001b[32m, line 8\u001b[39m\n\u001b[32m      5\u001b[39m \u001b[38;5;28mprint\u001b[39m(\u001b[33mf\u001b[39m\u001b[33m\"\u001b[39m\u001b[33mTrain sequences: \u001b[39m\u001b[38;5;132;01m{\u001b[39;00mX_train.shape\u001b[38;5;132;01m}\u001b[39;00m\u001b[33m, Targets: \u001b[39m\u001b[38;5;132;01m{\u001b[39;00my_train.shape\u001b[38;5;132;01m}\u001b[39;00m\u001b[33m\"\u001b[39m)\n\u001b[32m      7\u001b[39m \u001b[38;5;66;03m# Hyperparameter tuning\u001b[39;00m\n\u001b[32m----> \u001b[39m\u001b[32m8\u001b[39m best_params = hyperparameter_tuning(X_train, y_train, X_val, y_val, n_trials=\u001b[32m15\u001b[39m)\n\u001b[32m     10\u001b[39m \u001b[38;5;66;03m# Full training with best hyperparameters\u001b[39;00m\n\u001b[32m     11\u001b[39m \u001b[38;5;28mprint\u001b[39m(\u001b[33m\"\u001b[39m\u001b[38;5;130;01m\\n\u001b[39;00m\u001b[33mTraining final model with best hyperparameters...\u001b[39m\u001b[33m\"\u001b[39m)\n",
      "\u001b[36mFile \u001b[39m\u001b[32m~/Documents/FPL_forecast/backend/predictor/training.py:159\u001b[39m, in \u001b[36mhyperparameter_tuning\u001b[39m\u001b[34m(X_train, y_train, X_val, y_val, epochs, n_trials)\u001b[39m\n\u001b[32m    157\u001b[39m \u001b[38;5;66;03m# Train model1'\u001b[39;00m\n\u001b[32m    158\u001b[39m \u001b[38;5;28;01mtry\u001b[39;00m:\n\u001b[32m--> \u001b[39m\u001b[32m159\u001b[39m     val_rmse = train_model(\n\u001b[32m    160\u001b[39m         model,\n\u001b[32m    161\u001b[39m         X_train=X_train, \n\u001b[32m    162\u001b[39m         y_train=y_train,\n\u001b[32m    163\u001b[39m         X_val=X_val, \n\u001b[32m    164\u001b[39m         y_val=y_val, \n\u001b[32m    165\u001b[39m         learning_rate=params[\u001b[33m'\u001b[39m\u001b[33mlearning_rate\u001b[39m\u001b[33m'\u001b[39m],\n\u001b[32m    166\u001b[39m         weight_decay=params[\u001b[33m'\u001b[39m\u001b[33mweight_decay\u001b[39m\u001b[33m'\u001b[39m],\n\u001b[32m    167\u001b[39m         batch_size=params[\u001b[33m'\u001b[39m\u001b[33mbatch_size\u001b[39m\u001b[33m'\u001b[39m],\n\u001b[32m    168\u001b[39m         epochs=epochs,\n\u001b[32m    169\u001b[39m     )\n\u001b[32m    171\u001b[39m     results.append({**params, \u001b[33m'\u001b[39m\u001b[33mrmse\u001b[39m\u001b[33m'\u001b[39m: val_rmse})\n\u001b[32m    173\u001b[39m     \u001b[38;5;28;01mif\u001b[39;00m val_rmse < best_rmse:\n",
      "\u001b[36mFile \u001b[39m\u001b[32m~/Documents/FPL_forecast/backend/predictor/training.py:79\u001b[39m, in \u001b[36mtrain_model\u001b[39m\u001b[34m(model, X_train, y_train, X_val, y_val, epochs, learning_rate, weight_decay, batch_size)\u001b[39m\n\u001b[32m     77\u001b[39m loss = criterion(output, y_batch)\n\u001b[32m     78\u001b[39m \u001b[38;5;66;03m#loss = (weights * loss).mean()\u001b[39;00m\n\u001b[32m---> \u001b[39m\u001b[32m79\u001b[39m loss.backward()\n\u001b[32m     80\u001b[39m optimizer.step()\n\u001b[32m     81\u001b[39m scheduler.step()\n",
      "\u001b[36mFile \u001b[39m\u001b[32m/opt/anaconda3/envs/fpl_helper/lib/python3.11/site-packages/torch/_tensor.py:581\u001b[39m, in \u001b[36mTensor.backward\u001b[39m\u001b[34m(self, gradient, retain_graph, create_graph, inputs)\u001b[39m\n\u001b[32m    571\u001b[39m \u001b[38;5;28;01mif\u001b[39;00m has_torch_function_unary(\u001b[38;5;28mself\u001b[39m):\n\u001b[32m    572\u001b[39m     \u001b[38;5;28;01mreturn\u001b[39;00m handle_torch_function(\n\u001b[32m    573\u001b[39m         Tensor.backward,\n\u001b[32m    574\u001b[39m         (\u001b[38;5;28mself\u001b[39m,),\n\u001b[32m   (...)\u001b[39m\u001b[32m    579\u001b[39m         inputs=inputs,\n\u001b[32m    580\u001b[39m     )\n\u001b[32m--> \u001b[39m\u001b[32m581\u001b[39m torch.autograd.backward(\n\u001b[32m    582\u001b[39m     \u001b[38;5;28mself\u001b[39m, gradient, retain_graph, create_graph, inputs=inputs\n\u001b[32m    583\u001b[39m )\n",
      "\u001b[36mFile \u001b[39m\u001b[32m/opt/anaconda3/envs/fpl_helper/lib/python3.11/site-packages/torch/autograd/__init__.py:347\u001b[39m, in \u001b[36mbackward\u001b[39m\u001b[34m(tensors, grad_tensors, retain_graph, create_graph, grad_variables, inputs)\u001b[39m\n\u001b[32m    342\u001b[39m     retain_graph = create_graph\n\u001b[32m    344\u001b[39m \u001b[38;5;66;03m# The reason we repeat the same comment below is that\u001b[39;00m\n\u001b[32m    345\u001b[39m \u001b[38;5;66;03m# some Python versions print out the first line of a multi-line function\u001b[39;00m\n\u001b[32m    346\u001b[39m \u001b[38;5;66;03m# calls in the traceback and some print out the last line\u001b[39;00m\n\u001b[32m--> \u001b[39m\u001b[32m347\u001b[39m _engine_run_backward(\n\u001b[32m    348\u001b[39m     tensors,\n\u001b[32m    349\u001b[39m     grad_tensors_,\n\u001b[32m    350\u001b[39m     retain_graph,\n\u001b[32m    351\u001b[39m     create_graph,\n\u001b[32m    352\u001b[39m     inputs,\n\u001b[32m    353\u001b[39m     allow_unreachable=\u001b[38;5;28;01mTrue\u001b[39;00m,\n\u001b[32m    354\u001b[39m     accumulate_grad=\u001b[38;5;28;01mTrue\u001b[39;00m,\n\u001b[32m    355\u001b[39m )\n",
      "\u001b[36mFile \u001b[39m\u001b[32m/opt/anaconda3/envs/fpl_helper/lib/python3.11/site-packages/torch/autograd/graph.py:825\u001b[39m, in \u001b[36m_engine_run_backward\u001b[39m\u001b[34m(t_outputs, *args, **kwargs)\u001b[39m\n\u001b[32m    823\u001b[39m     unregister_hooks = _register_logging_hooks_on_whole_graph(t_outputs)\n\u001b[32m    824\u001b[39m \u001b[38;5;28;01mtry\u001b[39;00m:\n\u001b[32m--> \u001b[39m\u001b[32m825\u001b[39m     \u001b[38;5;28;01mreturn\u001b[39;00m Variable._execution_engine.run_backward(  \u001b[38;5;66;03m# Calls into the C++ engine to run the backward pass\u001b[39;00m\n\u001b[32m    826\u001b[39m         t_outputs, *args, **kwargs\n\u001b[32m    827\u001b[39m     )  \u001b[38;5;66;03m# Calls into the C++ engine to run the backward pass\u001b[39;00m\n\u001b[32m    828\u001b[39m \u001b[38;5;28;01mfinally\u001b[39;00m:\n\u001b[32m    829\u001b[39m     \u001b[38;5;28;01mif\u001b[39;00m attach_logging_hooks:\n",
      "\u001b[31mKeyboardInterrupt\u001b[39m: "
     ]
    }
   ],
   "source": [
    "file_path = os.getcwd() + \"/data\" # run from root\n",
    "X_train, y_train = torch.load(file_path + \"/train_sequences.pt\", weights_only=True)\n",
    "X_val, y_val = torch.load(file_path + \"/val_sequences.pt\", weights_only=True) \n",
    "\n",
    "print(f\"Train sequences: {X_train.shape}, Targets: {y_train.shape}\")\n",
    "\n",
    "# Hyperparameter tuning\n",
    "best_params = hyperparameter_tuning(X_train, y_train, X_val, y_val, n_trials=15)\n",
    "\n",
    "# Full training with best hyperparameters\n",
    "print(\"\\nTraining final model with best hyperparameters...\")\n",
    "#model = LSTMEncoderOnly(input_dim=26, hidden_dim=128, output_dim=1, num_layers=2, dropout=0.2)\n",
    "#model = TransformerEncoderOnly(input_dim=41, hidden_dim=128, output_dim=1, num_layers=2, dropout=0.2, nhead=4)\n",
    "adv_model = AdvancedLSTM(input_dim=26, hidden_dim=best_params['hidden_dim'], \n",
    "                            output_dim=1, num_layers=best_params['num_layers'], \n",
    "                            dropout=best_params['dropout'], num_fc_layers=best_params['num_fc_layers'])\n",
    "\n",
    "\n",
    "train_model(\n",
    "    adv_model,\n",
    "    X_train=X_train, y_train=y_train,\n",
    "    X_val=X_val, y_val=y_val, \n",
    "    learning_rate=best_params['learning_rate'],\n",
    "    weight_decay=best_params['weight_decay'],\n",
    "    epochs=100  # Full training\n",
    ")"
   ]
  },
  {
   "cell_type": "code",
   "execution_count": null,
   "id": "5d6ba27a",
   "metadata": {},
   "outputs": [],
   "source": []
  }
 ],
 "metadata": {
  "kernelspec": {
   "display_name": "fpl_helper",
   "language": "python",
   "name": "python3"
  },
  "language_info": {
   "codemirror_mode": {
    "name": "ipython",
    "version": 3
   },
   "file_extension": ".py",
   "mimetype": "text/x-python",
   "name": "python",
   "nbconvert_exporter": "python",
   "pygments_lexer": "ipython3",
   "version": "3.11.13"
  }
 },
 "nbformat": 4,
 "nbformat_minor": 5
}
