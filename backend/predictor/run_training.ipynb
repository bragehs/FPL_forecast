{
 "cells": [
  {
   "cell_type": "code",
   "execution_count": 2,
   "id": "95e993bb",
   "metadata": {},
   "outputs": [],
   "source": [
    "import os\n",
    "import torch\n",
    "from training import train_model, hyperparameter_tuning\n",
    "from model import AdvancedLSTM"
   ]
  },
  {
   "cell_type": "code",
   "execution_count": 3,
   "id": "c9b13dbc",
   "metadata": {},
   "outputs": [
    {
     "name": "stdout",
     "output_type": "stream",
     "text": [
      "Train sequences: torch.Size([22472, 5, 26]), Targets: torch.Size([22472, 1])\n",
      "Running random search with 25 trials...\n",
      "\n",
      "Trial 1/25\n",
      "Params: {'learning_rate': 0.01, 'hidden_dim': 96, 'weight_decay': 0.0001, 'num_layers': 3, 'dropout': 0.3, 'num_fc_layers': 2, 'batch_size': 256, 'weight_ranges': [(0, 2, 1.0), (2, 4, 1.0), (4, 6, 1.2), (6, 10, 2.0), (10, inf, 3.0)]}\n"
     ]
    },
    {
     "name": "stderr",
     "output_type": "stream",
     "text": [
      "Epoch  1/30:  42%|████▏     | 37/88 [00:04<00:05,  8.69it/s, loss=42.7172, lr=0.000452]\n"
     ]
    },
    {
     "ename": "KeyboardInterrupt",
     "evalue": "",
     "output_type": "error",
     "traceback": [
      "\u001b[31m---------------------------------------------------------------------------\u001b[39m",
      "\u001b[31mKeyboardInterrupt\u001b[39m                         Traceback (most recent call last)",
      "\u001b[36mCell\u001b[39m\u001b[36m \u001b[39m\u001b[32mIn[3]\u001b[39m\u001b[32m, line 8\u001b[39m\n\u001b[32m      5\u001b[39m \u001b[38;5;28mprint\u001b[39m(\u001b[33mf\u001b[39m\u001b[33m\"\u001b[39m\u001b[33mTrain sequences: \u001b[39m\u001b[38;5;132;01m{\u001b[39;00mX_train.shape\u001b[38;5;132;01m}\u001b[39;00m\u001b[33m, Targets: \u001b[39m\u001b[38;5;132;01m{\u001b[39;00my_train.shape\u001b[38;5;132;01m}\u001b[39;00m\u001b[33m\"\u001b[39m)\n\u001b[32m      7\u001b[39m \u001b[38;5;66;03m# Hyperparameter tuning\u001b[39;00m\n\u001b[32m----> \u001b[39m\u001b[32m8\u001b[39m best_params = hyperparameter_tuning(X_train, y_train, X_val, y_val, epochs=\u001b[32m30\u001b[39m, n_trials=\u001b[32m25\u001b[39m)\n\u001b[32m     10\u001b[39m \u001b[38;5;66;03m# Full training with best hyperparameters\u001b[39;00m\n\u001b[32m     11\u001b[39m \u001b[38;5;28mprint\u001b[39m(\u001b[33m\"\u001b[39m\u001b[38;5;130;01m\\n\u001b[39;00m\u001b[33mTraining final model with best hyperparameters...\u001b[39m\u001b[33m\"\u001b[39m)\n",
      "\u001b[36mFile \u001b[39m\u001b[32m~/Documents/FPL_forecast/backend/predictor/training.py:206\u001b[39m, in \u001b[36mhyperparameter_tuning\u001b[39m\u001b[34m(X_train, y_train, X_val, y_val, epochs, n_trials)\u001b[39m\n\u001b[32m    204\u001b[39m \u001b[38;5;66;03m# Train model\u001b[39;00m\n\u001b[32m    205\u001b[39m \u001b[38;5;28;01mtry\u001b[39;00m:\n\u001b[32m--> \u001b[39m\u001b[32m206\u001b[39m     val_rmse = train_model(\n\u001b[32m    207\u001b[39m         model,\n\u001b[32m    208\u001b[39m         X_train=X_train, \n\u001b[32m    209\u001b[39m         y_train=y_train,\n\u001b[32m    210\u001b[39m         X_val=X_val, \n\u001b[32m    211\u001b[39m         y_val=y_val, \n\u001b[32m    212\u001b[39m         learning_rate=params[\u001b[33m'\u001b[39m\u001b[33mlearning_rate\u001b[39m\u001b[33m'\u001b[39m],\n\u001b[32m    213\u001b[39m         weight_decay=params[\u001b[33m'\u001b[39m\u001b[33mweight_decay\u001b[39m\u001b[33m'\u001b[39m],\n\u001b[32m    214\u001b[39m         batch_size=params[\u001b[33m'\u001b[39m\u001b[33mbatch_size\u001b[39m\u001b[33m'\u001b[39m],\n\u001b[32m    215\u001b[39m         epochs=epochs,\n\u001b[32m    216\u001b[39m         weight_ranges=params[\u001b[33m'\u001b[39m\u001b[33mweight_ranges\u001b[39m\u001b[33m'\u001b[39m]\n\u001b[32m    217\u001b[39m     )\n\u001b[32m    219\u001b[39m     results.append({**params, \u001b[33m'\u001b[39m\u001b[33mrmse\u001b[39m\u001b[33m'\u001b[39m: val_rmse})\n\u001b[32m    221\u001b[39m     \u001b[38;5;28;01mif\u001b[39;00m val_rmse < best_rmse:\n",
      "\u001b[36mFile \u001b[39m\u001b[32m~/Documents/FPL_forecast/backend/predictor/training.py:103\u001b[39m, in \u001b[36mtrain_model\u001b[39m\u001b[34m(model, X_train, y_train, X_val, y_val, epochs, learning_rate, weight_decay, batch_size, weight_ranges)\u001b[39m\n\u001b[32m    101\u001b[39m X_batch, y_batch = X_batch.to(device), y_batch.to(device)\n\u001b[32m    102\u001b[39m optimizer.zero_grad()\n\u001b[32m--> \u001b[39m\u001b[32m103\u001b[39m output = model(X_batch)\n\u001b[32m    104\u001b[39m \u001b[38;5;66;03m#weights = create_loss_weights(y_batch)\u001b[39;00m\n\u001b[32m    105\u001b[39m loss = criterion(output, y_batch)\n",
      "\u001b[36mFile \u001b[39m\u001b[32m/opt/anaconda3/envs/fpl_helper/lib/python3.11/site-packages/torch/nn/modules/module.py:1736\u001b[39m, in \u001b[36mModule._wrapped_call_impl\u001b[39m\u001b[34m(self, *args, **kwargs)\u001b[39m\n\u001b[32m   1734\u001b[39m     \u001b[38;5;28;01mreturn\u001b[39;00m \u001b[38;5;28mself\u001b[39m._compiled_call_impl(*args, **kwargs)  \u001b[38;5;66;03m# type: ignore[misc]\u001b[39;00m\n\u001b[32m   1735\u001b[39m \u001b[38;5;28;01melse\u001b[39;00m:\n\u001b[32m-> \u001b[39m\u001b[32m1736\u001b[39m     \u001b[38;5;28;01mreturn\u001b[39;00m \u001b[38;5;28mself\u001b[39m._call_impl(*args, **kwargs)\n",
      "\u001b[36mFile \u001b[39m\u001b[32m/opt/anaconda3/envs/fpl_helper/lib/python3.11/site-packages/torch/nn/modules/module.py:1747\u001b[39m, in \u001b[36mModule._call_impl\u001b[39m\u001b[34m(self, *args, **kwargs)\u001b[39m\n\u001b[32m   1742\u001b[39m \u001b[38;5;66;03m# If we don't have any hooks, we want to skip the rest of the logic in\u001b[39;00m\n\u001b[32m   1743\u001b[39m \u001b[38;5;66;03m# this function, and just call forward.\u001b[39;00m\n\u001b[32m   1744\u001b[39m \u001b[38;5;28;01mif\u001b[39;00m \u001b[38;5;129;01mnot\u001b[39;00m (\u001b[38;5;28mself\u001b[39m._backward_hooks \u001b[38;5;129;01mor\u001b[39;00m \u001b[38;5;28mself\u001b[39m._backward_pre_hooks \u001b[38;5;129;01mor\u001b[39;00m \u001b[38;5;28mself\u001b[39m._forward_hooks \u001b[38;5;129;01mor\u001b[39;00m \u001b[38;5;28mself\u001b[39m._forward_pre_hooks\n\u001b[32m   1745\u001b[39m         \u001b[38;5;129;01mor\u001b[39;00m _global_backward_pre_hooks \u001b[38;5;129;01mor\u001b[39;00m _global_backward_hooks\n\u001b[32m   1746\u001b[39m         \u001b[38;5;129;01mor\u001b[39;00m _global_forward_hooks \u001b[38;5;129;01mor\u001b[39;00m _global_forward_pre_hooks):\n\u001b[32m-> \u001b[39m\u001b[32m1747\u001b[39m     \u001b[38;5;28;01mreturn\u001b[39;00m forward_call(*args, **kwargs)\n\u001b[32m   1749\u001b[39m result = \u001b[38;5;28;01mNone\u001b[39;00m\n\u001b[32m   1750\u001b[39m called_always_called_hooks = \u001b[38;5;28mset\u001b[39m()\n",
      "\u001b[36mFile \u001b[39m\u001b[32m~/Documents/FPL_forecast/backend/predictor/model.py:42\u001b[39m, in \u001b[36mAdvancedLSTM.forward\u001b[39m\u001b[34m(self, x)\u001b[39m\n\u001b[32m     41\u001b[39m \u001b[38;5;28;01mdef\u001b[39;00m\u001b[38;5;250m \u001b[39m\u001b[34mforward\u001b[39m(\u001b[38;5;28mself\u001b[39m, x):\n\u001b[32m---> \u001b[39m\u001b[32m42\u001b[39m     _, (hidden, _) = \u001b[38;5;28mself\u001b[39m.lstm(x)\n\u001b[32m     43\u001b[39m     hidden_last = hidden[-\u001b[32m1\u001b[39m]\n\u001b[32m     45\u001b[39m     \u001b[38;5;66;03m# Dynamic multi-layer head with batch norm\u001b[39;00m\n",
      "\u001b[36mFile \u001b[39m\u001b[32m/opt/anaconda3/envs/fpl_helper/lib/python3.11/site-packages/torch/nn/modules/module.py:1736\u001b[39m, in \u001b[36mModule._wrapped_call_impl\u001b[39m\u001b[34m(self, *args, **kwargs)\u001b[39m\n\u001b[32m   1734\u001b[39m     \u001b[38;5;28;01mreturn\u001b[39;00m \u001b[38;5;28mself\u001b[39m._compiled_call_impl(*args, **kwargs)  \u001b[38;5;66;03m# type: ignore[misc]\u001b[39;00m\n\u001b[32m   1735\u001b[39m \u001b[38;5;28;01melse\u001b[39;00m:\n\u001b[32m-> \u001b[39m\u001b[32m1736\u001b[39m     \u001b[38;5;28;01mreturn\u001b[39;00m \u001b[38;5;28mself\u001b[39m._call_impl(*args, **kwargs)\n",
      "\u001b[36mFile \u001b[39m\u001b[32m/opt/anaconda3/envs/fpl_helper/lib/python3.11/site-packages/torch/nn/modules/module.py:1747\u001b[39m, in \u001b[36mModule._call_impl\u001b[39m\u001b[34m(self, *args, **kwargs)\u001b[39m\n\u001b[32m   1742\u001b[39m \u001b[38;5;66;03m# If we don't have any hooks, we want to skip the rest of the logic in\u001b[39;00m\n\u001b[32m   1743\u001b[39m \u001b[38;5;66;03m# this function, and just call forward.\u001b[39;00m\n\u001b[32m   1744\u001b[39m \u001b[38;5;28;01mif\u001b[39;00m \u001b[38;5;129;01mnot\u001b[39;00m (\u001b[38;5;28mself\u001b[39m._backward_hooks \u001b[38;5;129;01mor\u001b[39;00m \u001b[38;5;28mself\u001b[39m._backward_pre_hooks \u001b[38;5;129;01mor\u001b[39;00m \u001b[38;5;28mself\u001b[39m._forward_hooks \u001b[38;5;129;01mor\u001b[39;00m \u001b[38;5;28mself\u001b[39m._forward_pre_hooks\n\u001b[32m   1745\u001b[39m         \u001b[38;5;129;01mor\u001b[39;00m _global_backward_pre_hooks \u001b[38;5;129;01mor\u001b[39;00m _global_backward_hooks\n\u001b[32m   1746\u001b[39m         \u001b[38;5;129;01mor\u001b[39;00m _global_forward_hooks \u001b[38;5;129;01mor\u001b[39;00m _global_forward_pre_hooks):\n\u001b[32m-> \u001b[39m\u001b[32m1747\u001b[39m     \u001b[38;5;28;01mreturn\u001b[39;00m forward_call(*args, **kwargs)\n\u001b[32m   1749\u001b[39m result = \u001b[38;5;28;01mNone\u001b[39;00m\n\u001b[32m   1750\u001b[39m called_always_called_hooks = \u001b[38;5;28mset\u001b[39m()\n",
      "\u001b[36mFile \u001b[39m\u001b[32m/opt/anaconda3/envs/fpl_helper/lib/python3.11/site-packages/torch/nn/modules/rnn.py:1123\u001b[39m, in \u001b[36mLSTM.forward\u001b[39m\u001b[34m(self, input, hx)\u001b[39m\n\u001b[32m   1120\u001b[39m         hx = \u001b[38;5;28mself\u001b[39m.permute_hidden(hx, sorted_indices)\n\u001b[32m   1122\u001b[39m \u001b[38;5;28;01mif\u001b[39;00m batch_sizes \u001b[38;5;129;01mis\u001b[39;00m \u001b[38;5;28;01mNone\u001b[39;00m:\n\u001b[32m-> \u001b[39m\u001b[32m1123\u001b[39m     result = _VF.lstm(\n\u001b[32m   1124\u001b[39m         \u001b[38;5;28minput\u001b[39m,\n\u001b[32m   1125\u001b[39m         hx,\n\u001b[32m   1126\u001b[39m         \u001b[38;5;28mself\u001b[39m._flat_weights,\n\u001b[32m   1127\u001b[39m         \u001b[38;5;28mself\u001b[39m.bias,\n\u001b[32m   1128\u001b[39m         \u001b[38;5;28mself\u001b[39m.num_layers,\n\u001b[32m   1129\u001b[39m         \u001b[38;5;28mself\u001b[39m.dropout,\n\u001b[32m   1130\u001b[39m         \u001b[38;5;28mself\u001b[39m.training,\n\u001b[32m   1131\u001b[39m         \u001b[38;5;28mself\u001b[39m.bidirectional,\n\u001b[32m   1132\u001b[39m         \u001b[38;5;28mself\u001b[39m.batch_first,\n\u001b[32m   1133\u001b[39m     )\n\u001b[32m   1134\u001b[39m \u001b[38;5;28;01melse\u001b[39;00m:\n\u001b[32m   1135\u001b[39m     result = _VF.lstm(\n\u001b[32m   1136\u001b[39m         \u001b[38;5;28minput\u001b[39m,\n\u001b[32m   1137\u001b[39m         batch_sizes,\n\u001b[32m   (...)\u001b[39m\u001b[32m   1144\u001b[39m         \u001b[38;5;28mself\u001b[39m.bidirectional,\n\u001b[32m   1145\u001b[39m     )\n",
      "\u001b[31mKeyboardInterrupt\u001b[39m: "
     ]
    }
   ],
   "source": [
    "file_path = os.getcwd() + \"/data\" # run from root\n",
    "X_train, y_train = torch.load(file_path + \"/train_sequences.pt\", weights_only=True)\n",
    "X_val, y_val = torch.load(file_path + \"/val_sequences.pt\", weights_only=True) \n",
    "\n",
    "print(f\"Train sequences: {X_train.shape}, Targets: {y_train.shape}\")\n",
    "\n",
    "# Hyperparameter tuning\n",
    "best_params = hyperparameter_tuning(X_train, y_train, X_val, y_val, epochs=30, n_trials=25)\n",
    "\n",
    "# Full training with best hyperparameters\n",
    "print(\"\\nTraining final model with best hyperparameters...\")\n",
    "#model = LSTMEncoderOnly(input_dim=26, hidden_dim=128, output_dim=1, num_layers=2, dropout=0.2)\n",
    "#model = TransformerEncoderOnly(input_dim=41, hidden_dim=128, output_dim=1, num_layers=2, dropout=0.2, nhead=4)\n",
    "adv_model = AdvancedLSTM(input_dim=26, hidden_dim=best_params['hidden_dim'], \n",
    "                            output_dim=1, num_layers=best_params['num_layers'], \n",
    "                            dropout=best_params['dropout'], num_fc_layers=best_params['num_fc_layers'])\n",
    "\n",
    "\n",
    "train_model(\n",
    "    adv_model,\n",
    "    X_train=X_train, y_train=y_train,\n",
    "    X_val=X_val, y_val=y_val, \n",
    "    learning_rate=best_params['learning_rate'],\n",
    "    weight_decay=best_params['weight_decay'],\n",
    "    batch_size=best_params['batch_size'],\n",
    "    weight_ranges=best_params['weight_ranges'],\n",
    "    epochs=100  # Full training\n",
    ")"
   ]
  },
  {
   "cell_type": "code",
   "execution_count": null,
   "id": "5d6ba27a",
   "metadata": {},
   "outputs": [],
   "source": []
  }
 ],
 "metadata": {
  "kernelspec": {
   "display_name": "fpl_helper",
   "language": "python",
   "name": "python3"
  },
  "language_info": {
   "codemirror_mode": {
    "name": "ipython",
    "version": 3
   },
   "file_extension": ".py",
   "mimetype": "text/x-python",
   "name": "python",
   "nbconvert_exporter": "python",
   "pygments_lexer": "ipython3",
   "version": "3.11.13"
  }
 },
 "nbformat": 4,
 "nbformat_minor": 5
}
