{
 "cells": [
  {
   "cell_type": "code",
   "execution_count": 52,
   "id": "edc056f1",
   "metadata": {},
   "outputs": [],
   "source": [
    "import pandas as pd\n",
    "import os\n",
    "import matplotlib.pyplot as plt\n",
    "import numpy as np\n",
    "import seaborn as sns\n",
    "import smogn\n",
    "import torch\n",
    "from scipy import stats"
   ]
  },
  {
   "cell_type": "code",
   "execution_count": 47,
   "id": "21f55748",
   "metadata": {},
   "outputs": [],
   "source": [
    "base_path = os.getcwd()\n",
    "backend_root = os.path.dirname(base_path)"
   ]
  },
  {
   "cell_type": "code",
   "execution_count": 48,
   "id": "79220d1d",
   "metadata": {},
   "outputs": [
    {
     "name": "stderr",
     "output_type": "stream",
     "text": [
      "/var/folders/yv/683h12gj4mdc5txzm0lh6j0h0000gn/T/ipykernel_60220/2559780044.py:2: DtypeWarning: Columns (2,3,18) have mixed types. Specify dtype option on import or set low_memory=False.\n",
      "  df = pd.read_csv(file_path)\n"
     ]
    }
   ],
   "source": [
    "file_path = os.path.join(base_path, \"data/cleaned_merged_seasons.csv\")\n",
    "df = pd.read_csv(file_path)"
   ]
  },
  {
   "cell_type": "code",
   "execution_count": 38,
   "id": "fff8a5da",
   "metadata": {},
   "outputs": [
    {
     "name": "stdout",
     "output_type": "stream",
     "text": [
      "season_x: 0\n",
      "name: 0\n",
      "position: 90496\n",
      "team_x: 90496\n",
      "assists: 0\n",
      "bonus: 0\n",
      "bps: 0\n",
      "clean_sheets: 0\n",
      "creativity: 0\n",
      "element: 0\n",
      "fixture: 0\n",
      "goals_conceded: 0\n",
      "goals_scored: 0\n",
      "ict_index: 0\n",
      "influence: 0\n",
      "kickoff_time: 0\n",
      "minutes: 0\n",
      "opponent_team: 0\n",
      "opp_team_name: 27614\n",
      "own_goals: 0\n",
      "penalties_missed: 0\n",
      "penalties_saved: 0\n",
      "red_cards: 0\n",
      "round: 0\n",
      "saves: 0\n",
      "selected: 0\n",
      "team_a_score: 59\n",
      "team_h_score: 59\n",
      "threat: 0\n",
      "total_points: 0\n",
      "transfers_balance: 0\n",
      "transfers_in: 0\n",
      "transfers_out: 0\n",
      "value: 0\n",
      "was_home: 0\n",
      "yellow_cards: 0\n",
      "expected_goals: 140308\n",
      "expected_assists: 140308\n",
      "expected_goals_conceded: 140308\n",
      "GW: 0\n"
     ]
    }
   ],
   "source": [
    "for i in df.columns:\n",
    "    print(f\"{i}: {df[i].isna().sum()}\")"
   ]
  },
  {
   "cell_type": "code",
   "execution_count": 39,
   "id": "7e849fbe",
   "metadata": {},
   "outputs": [
    {
     "name": "stdout",
     "output_type": "stream",
     "text": [
      "season_x: 0\n",
      "name: 0\n",
      "position: 0\n",
      "team_x: 0\n",
      "assists: 0\n",
      "bonus: 0\n",
      "bps: 0\n",
      "clean_sheets: 0\n",
      "creativity: 0\n",
      "element: 0\n",
      "fixture: 0\n",
      "goals_conceded: 0\n",
      "goals_scored: 0\n",
      "ict_index: 0\n",
      "influence: 0\n",
      "kickoff_time: 0\n",
      "minutes: 0\n",
      "opponent_team: 0\n",
      "opp_team_name: 0\n",
      "own_goals: 0\n",
      "penalties_missed: 0\n",
      "penalties_saved: 0\n",
      "red_cards: 0\n",
      "round: 0\n",
      "saves: 0\n",
      "selected: 0\n",
      "team_a_score: 0\n",
      "team_h_score: 0\n",
      "threat: 0\n",
      "total_points: 0\n",
      "transfers_balance: 0\n",
      "transfers_in: 0\n",
      "transfers_out: 0\n",
      "value: 0\n",
      "was_home: 0\n",
      "yellow_cards: 0\n",
      "expected_goals: 0\n",
      "expected_assists: 0\n",
      "expected_goals_conceded: 0\n",
      "GW: 0\n"
     ]
    }
   ],
   "source": [
    "df_25 = df[df['season_x'] == '2023-24']\n",
    "for i in df_25.columns:\n",
    "    print(f\"{i}: {df_25[i].isna().sum()}\")"
   ]
  },
  {
   "cell_type": "code",
   "execution_count": 45,
   "id": "cdbf13b8",
   "metadata": {},
   "outputs": [
    {
     "data": {
      "text/plain": [
       "element\n",
       "508    39\n",
       "393    39\n",
       "21     39\n",
       "66     38\n",
       "652    38\n",
       "       ..\n",
       "861     3\n",
       "866     1\n",
       "865     1\n",
       "863     1\n",
       "864     1\n",
       "Name: count, Length: 865, dtype: int64"
      ]
     },
     "execution_count": 45,
     "metadata": {},
     "output_type": "execute_result"
    }
   ],
   "source": [
    "df_25['element'].value_counts()"
   ]
  },
  {
   "cell_type": "code",
   "execution_count": 40,
   "id": "f8f1b409",
   "metadata": {},
   "outputs": [
    {
     "name": "stdout",
     "output_type": "stream",
     "text": [
      "2016-17: 100.00% NaN values in position column\n",
      "2017-18: 100.00% NaN values in position column\n",
      "2018-19: 100.00% NaN values in position column\n",
      "2019-20: 100.00% NaN values in position column\n",
      "2020-21: 0.00% NaN values in position column\n",
      "2021-22: 0.00% NaN values in position column\n",
      "2022-23: 0.00% NaN values in position column\n",
      "2023-24: 0.00% NaN values in position column\n",
      "2024-25: 0.00% NaN values in position column\n"
     ]
    }
   ],
   "source": [
    "for season in sorted(df['season_x'].unique()):\n",
    "    season_mask = df['season_x'] == season\n",
    "    n_total = season_mask.sum()\n",
    "    n_nans = df.loc[season_mask, 'position'].isna().sum()\n",
    "    percent_nans = (n_nans / n_total) * 100 if n_total > 0 else 0\n",
    "    print(f\"{season}: {percent_nans:.2f}% NaN values in position column\")"
   ]
  },
  {
   "cell_type": "code",
   "execution_count": 41,
   "id": "8ba84ca6",
   "metadata": {},
   "outputs": [],
   "source": [
    "df = df[df['season_x'].isin(['2024-25', '2023-24', '2022-23'])].copy()"
   ]
  },
  {
   "cell_type": "code",
   "execution_count": 15,
   "id": "8186b70d",
   "metadata": {},
   "outputs": [],
   "source": [
    "df = df[df['minutes'] > 0].copy()"
   ]
  },
  {
   "cell_type": "code",
   "execution_count": 16,
   "id": "5402ff9a",
   "metadata": {},
   "outputs": [],
   "source": [
    "df.loc[df['total_points'] < 0, 'total_points'] = 0"
   ]
  },
  {
   "cell_type": "code",
   "execution_count": 108,
   "id": "be76f0d2",
   "metadata": {},
   "outputs": [
    {
     "name": "stderr",
     "output_type": "stream",
     "text": [
      "/var/folders/yv/683h12gj4mdc5txzm0lh6j0h0000gn/T/ipykernel_60220/757508606.py:1: FutureWarning: You are using `torch.load` with `weights_only=False` (the current default value), which uses the default pickle module implicitly. It is possible to construct malicious pickle data which will execute arbitrary code during unpickling (See https://github.com/pytorch/pytorch/blob/main/SECURITY.md#untrusted-models for more details). In a future release, the default value for `weights_only` will be flipped to `True`. This limits the functions that could be executed during unpickling. Arbitrary objects will no longer be allowed to be loaded via this mode unless they are explicitly allowlisted by the user via `torch.serialization.add_safe_globals`. We recommend you start setting `weights_only=True` for any use case where you don't have full control of the loaded file. Please open an issue on GitHub for any issues related to this experimental feature.\n",
      "  _, target = torch.load(\"/Users/bragehs/Documents/FPL_forecast/backend/predictor/final_data/train_sequences.pt\")\n"
     ]
    }
   ],
   "source": [
    "_, target = torch.load(\"/Users/bragehs/Documents/FPL_forecast/backend/predictor/final_data/train_sequences.pt\")"
   ]
  },
  {
   "cell_type": "code",
   "execution_count": 109,
   "id": "ecc33b97",
   "metadata": {},
   "outputs": [
    {
     "data": {
      "text/plain": [
       "torch.Size([22028, 1])"
      ]
     },
     "execution_count": 109,
     "metadata": {},
     "output_type": "execute_result"
    }
   ],
   "source": [
    "target.shape"
   ]
  },
  {
   "cell_type": "code",
   "execution_count": 110,
   "id": "fa9564b9",
   "metadata": {},
   "outputs": [],
   "source": [
    "target = target.squeeze(1)"
   ]
  },
  {
   "cell_type": "code",
   "execution_count": 111,
   "id": "0124d7da",
   "metadata": {},
   "outputs": [
    {
     "data": {
      "image/png": "[encoded data removed]",
      "text/plain": [
       "<Figure size 640x480 with 1 Axes>"
      ]
     },
     "metadata": {},
     "output_type": "display_data"
    }
   ],
   "source": [
    "sns.kdeplot(target, fill=True)\n",
    "plt.show()"
   ]
  },
  {
   "cell_type": "code",
   "execution_count": 102,
   "id": "46314e5c",
   "metadata": {},
   "outputs": [
    {
     "name": "stderr",
     "output_type": "stream",
     "text": [
      "/var/folders/yv/683h12gj4mdc5txzm0lh6j0h0000gn/T/ipykernel_60220/216777872.py:1: DeprecationWarning: __array_wrap__ must accept context and return_scalar arguments (positionally) in the future. (Deprecated NumPy 2.0)\n",
      "  target_log = np.log1p(target)\n"
     ]
    }
   ],
   "source": [
    "target_log = np.log1p(target)\n",
    "#np.expm1 is used to reverse the log1p transformation"
   ]
  },
  {
   "cell_type": "code",
   "execution_count": 103,
   "id": "199f2fa4",
   "metadata": {},
   "outputs": [
    {
     "data": {
      "image/png": "[encoded data removed]",
      "text/plain": [
       "<Figure size 640x480 with 1 Axes>"
      ]
     },
     "metadata": {},
     "output_type": "display_data"
    }
   ],
   "source": [
    "sns.kdeplot(target_log, fill=True)\n",
    "plt.show()"
   ]
  },
  {
   "cell_type": "code",
   "execution_count": 70,
   "id": "f1f5655b",
   "metadata": {},
   "outputs": [
    {
     "name": "stdout",
     "output_type": "stream",
     "text": [
      "Original outliers range: tensor(10.) to tensor(26.)\n",
      "Log-transformed outliers range: tensor(2.3979) to tensor(3.2958)\n"
     ]
    }
   ],
   "source": [
    "original_outliers = target[target > target.quantile(0.95)]\n",
    "log_outliers = target_log[target > target.quantile(0.95)]\n",
    "\n",
    "print(\"Original outliers range:\", original_outliers.min(), \"to\", original_outliers.max())\n",
    "print(\"Log-transformed outliers range:\", log_outliers.min(), \"to\", log_outliers.max())"
   ]
  },
  {
   "cell_type": "code",
   "execution_count": null,
   "id": "ee24ce31",
   "metadata": {},
   "outputs": [],
   "source": []
  }
 ],
 "metadata": {
  "kernelspec": {
   "display_name": "fpl_helper",
   "language": "python",
   "name": "python3"
  },
  "language_info": {
   "codemirror_mode": {
    "name": "ipython",
    "version": 3
   },
   "file_extension": ".py",
   "mimetype": "text/x-python",
   "name": "python",
   "nbconvert_exporter": "python",
   "pygments_lexer": "ipython3",
   "version": "3.11.13"
  }
 },
 "nbformat": 4,
 "nbformat_minor": 5
}
